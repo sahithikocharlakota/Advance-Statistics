{
 "cells": [
  {
   "cell_type": "code",
   "execution_count": 1,
   "metadata": {},
   "outputs": [],
   "source": [
    "import pandas as pd\n",
    "import numpy as np\n",
    "import matplotlib.pyplot as plt\n",
    "import seaborn as sns\n",
    "import scipy.stats as stats"
   ]
  },
  {
   "attachments": {
    "image.png": {
     "image/png": "[encoded data removed]"
    }
   },
   "cell_type": "markdown",
   "metadata": {},
   "source": [
    "## Problem 1\n",
    "\n",
    "## A physiotherapist with a male football team is interested in studying the relationship between foot injuries and the positions at which the players play from the data collected\n",
    "\n",
    "###### ![image.png](attachment:image.png)\n",
    " "
   ]
  },
  {
   "cell_type": "markdown",
   "metadata": {},
   "source": [
    "**1.1 What is the probability that a randomly chosen player would suffer an injury?**\n",
    "\n",
    "**1.2 What is the probability that a player is a forward or a winger?**\n",
    "\n",
    "**1.3 What is the probability that a randomly chosen player plays in a striker position and has a foot injury?**\n",
    "\n",
    "**1.4 What is the probability that a randomly chosen injured player is a striker?**\n",
    "\n",
    "**1.5 What is the probability that a randomly chosen injured player is either a forward or an attacking midfielder?**\n",
    "\n",
    " "
   ]
  },
  {
   "cell_type": "code",
   "execution_count": 2,
   "metadata": {},
   "outputs": [
    {
     "data": {
      "text/html": [
       "<div>\n",
       "<style scoped>\n",
       "    .dataframe tbody tr th:only-of-type {\n",
       "        vertical-align: middle;\n",
       "    }\n",
       "\n",
       "    .dataframe tbody tr th {\n",
       "        vertical-align: top;\n",
       "    }\n",
       "\n",
       "    .dataframe thead th {\n",
       "        text-align: right;\n",
       "    }\n",
       "</style>\n",
       "<table border=\"1\" class=\"dataframe\">\n",
       "  <thead>\n",
       "    <tr style=\"text-align: right;\">\n",
       "      <th></th>\n",
       "      <th>Striker</th>\n",
       "      <th>Forward</th>\n",
       "      <th>Attacking Midfielder</th>\n",
       "      <th>Winger</th>\n",
       "      <th>Total</th>\n",
       "    </tr>\n",
       "  </thead>\n",
       "  <tbody>\n",
       "    <tr>\n",
       "      <th>Players Injuried</th>\n",
       "      <td>45</td>\n",
       "      <td>56</td>\n",
       "      <td>24</td>\n",
       "      <td>20</td>\n",
       "      <td>145</td>\n",
       "    </tr>\n",
       "    <tr>\n",
       "      <th>Players not injuried</th>\n",
       "      <td>32</td>\n",
       "      <td>38</td>\n",
       "      <td>11</td>\n",
       "      <td>9</td>\n",
       "      <td>90</td>\n",
       "    </tr>\n",
       "    <tr>\n",
       "      <th>Total</th>\n",
       "      <td>77</td>\n",
       "      <td>94</td>\n",
       "      <td>35</td>\n",
       "      <td>29</td>\n",
       "      <td>235</td>\n",
       "    </tr>\n",
       "  </tbody>\n",
       "</table>\n",
       "</div>"
      ],
      "text/plain": [
       "                      Striker  Forward  Attacking Midfielder  Winger  Total\n",
       "Players Injuried           45       56                    24      20    145\n",
       "Players not injuried       32       38                    11       9     90\n",
       "Total                      77       94                    35      29    235"
      ]
     },
     "execution_count": 2,
     "metadata": {},
     "output_type": "execute_result"
    }
   ],
   "source": [
    "data = {'Striker':[45,32,77],\n",
    "       'Forward':[56,38,94],\n",
    "       'Attacking Midfielder':[24,11,35],\n",
    "       'Winger':[20,9,29],\n",
    "       'Total':[145,90,235]}\n",
    "df= pd.DataFrame(data,index=['Players Injuried','Players not injuried','Total'])\n",
    "df"
   ]
  },
  {
   "cell_type": "code",
   "execution_count": 3,
   "metadata": {},
   "outputs": [
    {
     "data": {
      "text/html": [
       "<div>\n",
       "<style scoped>\n",
       "    .dataframe tbody tr th:only-of-type {\n",
       "        vertical-align: middle;\n",
       "    }\n",
       "\n",
       "    .dataframe tbody tr th {\n",
       "        vertical-align: top;\n",
       "    }\n",
       "\n",
       "    .dataframe thead th {\n",
       "        text-align: right;\n",
       "    }\n",
       "</style>\n",
       "<table border=\"1\" class=\"dataframe\">\n",
       "  <thead>\n",
       "    <tr style=\"text-align: right;\">\n",
       "      <th></th>\n",
       "      <th>Striker</th>\n",
       "      <th>Forward</th>\n",
       "      <th>Attacking Midfielder</th>\n",
       "      <th>Winger</th>\n",
       "      <th>Total</th>\n",
       "    </tr>\n",
       "  </thead>\n",
       "  <tbody>\n",
       "    <tr>\n",
       "      <th>Players Injuried</th>\n",
       "      <td>0.19</td>\n",
       "      <td>0.24</td>\n",
       "      <td>0.10</td>\n",
       "      <td>0.09</td>\n",
       "      <td>0.62</td>\n",
       "    </tr>\n",
       "    <tr>\n",
       "      <th>Players not injuried</th>\n",
       "      <td>0.14</td>\n",
       "      <td>0.16</td>\n",
       "      <td>0.05</td>\n",
       "      <td>0.04</td>\n",
       "      <td>0.38</td>\n",
       "    </tr>\n",
       "    <tr>\n",
       "      <th>Total</th>\n",
       "      <td>0.33</td>\n",
       "      <td>0.40</td>\n",
       "      <td>0.15</td>\n",
       "      <td>0.12</td>\n",
       "      <td>1.00</td>\n",
       "    </tr>\n",
       "  </tbody>\n",
       "</table>\n",
       "</div>"
      ],
      "text/plain": [
       "                      Striker  Forward  Attacking Midfielder  Winger  Total\n",
       "Players Injuried         0.19     0.24                  0.10    0.09   0.62\n",
       "Players not injuried     0.14     0.16                  0.05    0.04   0.38\n",
       "Total                    0.33     0.40                  0.15    0.12   1.00"
      ]
     },
     "execution_count": 3,
     "metadata": {},
     "output_type": "execute_result"
    }
   ],
   "source": [
    "df1 = round(df/235,2)\n",
    "df1"
   ]
  },
  {
   "cell_type": "markdown",
   "metadata": {},
   "source": [
    "### 1.1 What is the probability that a randomly chosen player would suffer an injury?"
   ]
  },
  {
   "cell_type": "markdown",
   "metadata": {},
   "source": [
    "Probability of Players Injuried is to be found.\n",
    "\n",
    "To caluculate Players Injuried we should caluculate the total players who are injuried to the total number of players.\n",
    "\n",
    "**P(Players Injuried) = Total Players Injuried/ Total Players**"
   ]
  },
  {
   "cell_type": "code",
   "execution_count": 4,
   "metadata": {},
   "outputs": [
    {
     "name": "stdout",
     "output_type": "stream",
     "text": [
      "The probability of a randomly chosen player would suffer an injury is 0.62\n",
      "The Percentage of a randomly chosen player would suffer an injury is 62\n"
     ]
    }
   ],
   "source": [
    "Prob_Players_Injuried = df.loc['Players Injuried','Total']/df.loc['Total','Total']\n",
    "\n",
    "\n",
    "print('The probability of a randomly chosen player would suffer an injury is',round(Prob_Players_Injuried,2))\n",
    "print('The Percentage of a randomly chosen player would suffer an injury is',round(Prob_Players_Injuried*100))"
   ]
  },
  {
   "cell_type": "markdown",
   "metadata": {},
   "source": [
    "### 1.2 What is the probability that a player is a forward or a winger?"
   ]
  },
  {
   "cell_type": "markdown",
   "metadata": {},
   "source": [
    "The Probability of a player to be a forward or a winger is to be calculated.\n",
    "\n",
    "This can be done by :\n",
    "\n",
    "Forward and Winger are independent variables.\n",
    "\n",
    "**P(forward or winger) = P(forward) + P(winger)**\n",
    "\n",
    "P(forward) = Total forward players/Total number of players\n",
    "\n",
    "P(winger) = Total winger players/Total number of players\n"
   ]
  },
  {
   "cell_type": "code",
   "execution_count": 5,
   "metadata": {},
   "outputs": [
    {
     "name": "stdout",
     "output_type": "stream",
     "text": [
      "The probability of a player to be a forward or a winger is 0.52\n",
      "The percentage of a player to be a forward or a winger is 52\n"
     ]
    }
   ],
   "source": [
    "prob_forward = df.loc['Total','Forward']/df.loc['Total','Total']\n",
    "prob_winger = df.loc['Total','Winger']/df.loc['Total','Total']\n",
    "prob_forward_or_winger = prob_forward + prob_winger\n",
    "\n",
    "print('The probability of a player to be a forward or a winger is',round(prob_forward_or_winger,2))\n",
    "print('The percentage of a player to be a forward or a winger is',round(prob_forward_or_winger*100))"
   ]
  },
  {
   "cell_type": "code",
   "execution_count": 6,
   "metadata": {},
   "outputs": [
    {
     "data": {
      "text/html": [
       "<div>\n",
       "<style scoped>\n",
       "    .dataframe tbody tr th:only-of-type {\n",
       "        vertical-align: middle;\n",
       "    }\n",
       "\n",
       "    .dataframe tbody tr th {\n",
       "        vertical-align: top;\n",
       "    }\n",
       "\n",
       "    .dataframe thead th {\n",
       "        text-align: right;\n",
       "    }\n",
       "</style>\n",
       "<table border=\"1\" class=\"dataframe\">\n",
       "  <thead>\n",
       "    <tr style=\"text-align: right;\">\n",
       "      <th></th>\n",
       "      <th>Striker</th>\n",
       "      <th>Forward</th>\n",
       "      <th>Attacking Midfielder</th>\n",
       "      <th>Winger</th>\n",
       "      <th>Total</th>\n",
       "    </tr>\n",
       "  </thead>\n",
       "  <tbody>\n",
       "    <tr>\n",
       "      <th>Players Injuried</th>\n",
       "      <td>45</td>\n",
       "      <td>56</td>\n",
       "      <td>24</td>\n",
       "      <td>20</td>\n",
       "      <td>145</td>\n",
       "    </tr>\n",
       "    <tr>\n",
       "      <th>Players not injuried</th>\n",
       "      <td>32</td>\n",
       "      <td>38</td>\n",
       "      <td>11</td>\n",
       "      <td>9</td>\n",
       "      <td>90</td>\n",
       "    </tr>\n",
       "    <tr>\n",
       "      <th>Total</th>\n",
       "      <td>77</td>\n",
       "      <td>94</td>\n",
       "      <td>35</td>\n",
       "      <td>29</td>\n",
       "      <td>235</td>\n",
       "    </tr>\n",
       "  </tbody>\n",
       "</table>\n",
       "</div>"
      ],
      "text/plain": [
       "                      Striker  Forward  Attacking Midfielder  Winger  Total\n",
       "Players Injuried           45       56                    24      20    145\n",
       "Players not injuried       32       38                    11       9     90\n",
       "Total                      77       94                    35      29    235"
      ]
     },
     "execution_count": 6,
     "metadata": {},
     "output_type": "execute_result"
    }
   ],
   "source": [
    "df"
   ]
  },
  {
   "cell_type": "markdown",
   "metadata": {},
   "source": [
    "### 1.3 What is the probability that a randomly chosen player plays in a striker position and has a foot injury?"
   ]
  },
  {
   "cell_type": "markdown",
   "metadata": {},
   "source": [
    "The probability of a player to be striker and has injury is to be calculated.\n",
    "\n",
    "This can be done by dividing the number of injuried stiker players by total number of players.\n",
    "\n",
    "**P(Injuried Player, striker) = Total number of injuried stricker players / Total number of player**\n",
    "\n",
    "This is a Joint Probability"
   ]
  },
  {
   "cell_type": "code",
   "execution_count": 7,
   "metadata": {},
   "outputs": [
    {
     "ename": "NameError",
     "evalue": "name 'Prob_injuried_stiker' is not defined",
     "output_type": "error",
     "traceback": [
      "\u001b[1;31m---------------------------------------------------------------------------\u001b[0m",
      "\u001b[1;31mNameError\u001b[0m                                 Traceback (most recent call last)",
      "\u001b[1;32m<ipython-input-7-1b5f73750463>\u001b[0m in \u001b[0;36m<module>\u001b[1;34m\u001b[0m\n\u001b[0;32m      1\u001b[0m \u001b[0mProb_stiker_injuried\u001b[0m \u001b[1;33m=\u001b[0m\u001b[0mdf\u001b[0m\u001b[1;33m.\u001b[0m\u001b[0mloc\u001b[0m\u001b[1;33m[\u001b[0m\u001b[1;34m'Players Injuried'\u001b[0m\u001b[1;33m,\u001b[0m\u001b[1;34m'Striker'\u001b[0m\u001b[1;33m]\u001b[0m\u001b[1;33m/\u001b[0m\u001b[0mdf\u001b[0m\u001b[1;33m.\u001b[0m\u001b[0mloc\u001b[0m\u001b[1;33m[\u001b[0m\u001b[1;34m'Total'\u001b[0m\u001b[1;33m,\u001b[0m\u001b[1;34m'Total'\u001b[0m\u001b[1;33m]\u001b[0m\u001b[1;33m\u001b[0m\u001b[1;33m\u001b[0m\u001b[0m\n\u001b[1;32m----> 2\u001b[1;33m \u001b[0mProb_injuried_stiker\u001b[0m\u001b[1;33m\u001b[0m\u001b[1;33m\u001b[0m\u001b[0m\n\u001b[0m\u001b[0;32m      3\u001b[0m \u001b[1;33m\u001b[0m\u001b[0m\n\u001b[0;32m      4\u001b[0m \u001b[0mprint\u001b[0m\u001b[1;33m(\u001b[0m\u001b[1;34m'The probability of a player to be a Striker and has an Injury is'\u001b[0m\u001b[1;33m,\u001b[0m\u001b[0mround\u001b[0m\u001b[1;33m(\u001b[0m\u001b[0mProb_stiker_injuried\u001b[0m\u001b[1;33m,\u001b[0m\u001b[1;36m2\u001b[0m\u001b[1;33m)\u001b[0m\u001b[1;33m)\u001b[0m\u001b[1;33m\u001b[0m\u001b[1;33m\u001b[0m\u001b[0m\n\u001b[0;32m      5\u001b[0m \u001b[0mprint\u001b[0m\u001b[1;33m(\u001b[0m\u001b[1;34m'The percentage of a player to be a Striker and has an Injury is'\u001b[0m\u001b[1;33m,\u001b[0m\u001b[0mround\u001b[0m\u001b[1;33m(\u001b[0m\u001b[0mProb_stiker_injuried\u001b[0m\u001b[1;33m*\u001b[0m\u001b[1;36m100\u001b[0m\u001b[1;33m)\u001b[0m\u001b[1;33m)\u001b[0m\u001b[1;33m\u001b[0m\u001b[1;33m\u001b[0m\u001b[0m\n",
      "\u001b[1;31mNameError\u001b[0m: name 'Prob_injuried_stiker' is not defined"
     ]
    }
   ],
   "source": [
    "Prob_stiker_injuried =df.loc['Players Injuried','Striker']/df.loc['Total','Total']\n",
    "Prob_injuried_stiker\n",
    "\n",
    "print('The probability of a player to be a Striker and has an Injury is',round(Prob_stiker_injuried,2))\n",
    "print('The percentage of a player to be a Striker and has an Injury is',round(Prob_stiker_injuried*100))"
   ]
  },
  {
   "cell_type": "code",
   "execution_count": null,
   "metadata": {},
   "outputs": [],
   "source": []
  },
  {
   "cell_type": "markdown",
   "metadata": {},
   "source": [
    "### 1.4 What is the probability that a randomly chosen injured player is a striker?"
   ]
  },
  {
   "cell_type": "markdown",
   "metadata": {},
   "source": [
    "Probability of injuried person in which the person being striker\n",
    "\n",
    "The randomly chosen player to be an injuried person and the player is from striker.\n",
    "\n",
    "**P(injuried player|striker) = P(Injuried player,Striker)/P(Striker)**\n",
    "\n",
    "**P(Injuried Player, striker) = Total number of injuried stricker players / Total number of player**\n",
    "\n",
    "This is a Conditional Probability.\n"
   ]
  },
  {
   "cell_type": "code",
   "execution_count": null,
   "metadata": {},
   "outputs": [],
   "source": [
    "Prob_stiker_injuried =df.loc['Players Injuried','Striker']/df.loc['Total','Total']\n",
    "prob_striker= df.loc['Total','Striker']/df.loc['Total','Total']\n",
    "prob_injuried_tobe_striker = Prob_stiker_injuried/prob_striker\n",
    "\n",
    "print('The probability of a player to be a Injuried player and from Striker is',round(prob_injuried_tobe_striker,2))\n",
    "print('The percentage of a player to be a Injuried player and from Striker is',round(prob_injuried_tobe_striker*100))"
   ]
  },
  {
   "cell_type": "code",
   "execution_count": null,
   "metadata": {},
   "outputs": [],
   "source": [
    "45/77"
   ]
  },
  {
   "cell_type": "markdown",
   "metadata": {},
   "source": [
    "### 1.5 What is the probability that a randomly chosen injured player is either a forward or an attacking midfielder?"
   ]
  },
  {
   "cell_type": "markdown",
   "metadata": {},
   "source": [
    "The probability that a randomly chosen injured player is either a forward or an attacking midfielder is to be calculated.\n",
    " \n",
    "This can be done by :\n",
    "\n",
    "Forward and attacking midfielder two are independent variables.\n",
    "\n",
    "P(forward | injured) + P(attacking midfielder | injured)\n",
    "\n",
    "P(injured forward or injured attacking midfielder) = P(injured,forward) + P(injured,attacking midfielder)\n",
    "\n",
    "P(injured,forward) = Total injured forward players/Total number of injured players\n",
    "\n",
    "P(injured,attacking midfielder) = Total injured attacking midfielder players/Total number of injured players"
   ]
  },
  {
   "cell_type": "code",
   "execution_count": null,
   "metadata": {},
   "outputs": [],
   "source": [
    "prob_injuried_forward_midfielder = df.loc['Players Injuried','Forward'] / df.loc['Players Injuried','Total'] + df.loc['Players Injuried','Attacking Midfielder'] / df.loc['Players Injuried','Total']\n",
    "prob_injuried_forward_midfielder\n",
    "\n",
    "print('The Probability to be injuried player from forward or attacking midfielder is ',round(prob_injuried_forward_midfielder,2))\n",
    "print('The Percentage to be injuried player from forward or attacking midfielder is ',round(prob_injuried_forward_midfielder*100))\n"
   ]
  },
  {
   "cell_type": "markdown",
   "metadata": {},
   "source": [
    "## Problem 2\n",
    "\n",
    "### An independent research organization is trying to estimate the probability that an accident at a nuclear power plant will result in radiation leakage. The types of accidents possible at the plant are, fire hazards, mechanical failure, or human error. The research organization also knows that two or more types of accidents cannot occur simultaneously.\n",
    "\n",
    "### According to the studies carried out by the organization, the probability of a radiation leak in case of a fire is 20%, the probability of a radiation leak in case of a mechanical 50%, and the probability of a radiation leak in case of a human error is 10%. The studies also showed the following;\n",
    "\n",
    "### The probability of a radiation leak occurring simultaneously with a fire is 0.1%.\n",
    "### The probability of a radiation leak occurring simultaneously with a mechanical failure is 0.15%.\n",
    "### The probability of a radiation leak occurring simultaneously with a human error is 0.12%.\n",
    "### On the basis of the information available, answer the questions below:\n",
    "\n",
    "**2.1 What are the probabilities of a fire, a mechanical failure, and a human error respectively?**\n",
    "\n",
    "**2.2 What is the probability of a radiation leak?**\n",
    "\n",
    "**2.3 Suppose there has been a radiation leak in the reactor for which the definite cause is not known. What is the probability that it has been caused by:**\n",
    "\n",
    "**A Fire.**\n",
    "\n",
    "**A Mechanical Failure.**\n",
    "\n",
    "**A Human Error.**"
   ]
  },
  {
   "cell_type": "markdown",
   "metadata": {},
   "source": [
    "\n",
    "f is for Fire, \n",
    "\n",
    "m is for mechanical failure,\n",
    "\n",
    "h is for human error,\n",
    "\n",
    "r is radiation, \n",
    "\n",
    "n is no accidents\n",
    "\n",
    "Given that probability of radiation due to fire, mechanical failure, human error.\n",
    "\n",
    "P(r,f) = Probability of radiation when fire = 20% => 0.2\n",
    "\n",
    "P(r,m) = Probability of radiation when mechanical failures = 50% => 0.5\n",
    "\n",
    "P(r,h) = Probability of radiation when human errors = 10% => 0.1\n",
    "\n",
    "P(f,r) = probability of radiation leak occuring with fire = 0.1% => 0.001\n",
    "\n",
    "P(m,r) = probability of radiation leak occuring with mechanical failure = 0.15% => 0.0015\n",
    "\n",
    "P(h,r) = probability of radiation leak occuring with human error = 0.12% => 0.0012\n"
   ]
  },
  {
   "cell_type": "markdown",
   "metadata": {},
   "source": [
    "### 2.1 What are the probabilities of a fire, a mechanical failure, and a human error respectively?"
   ]
  },
  {
   "cell_type": "markdown",
   "metadata": {},
   "source": [
    "Given that the probabilities in the percentages.\n",
    "\n",
    "lets calculate the probabilities of fire, a mechanical failure, and a human error as P(x) and x be fire or mechanical or human error.\n",
    "\n",
    "P(f) = P(f,r)/P(r,f)\n",
    "\n",
    "P(m) = P(m,r)/P(r,m)\n",
    "\n",
    "P(h) = P(h,r)/P(r,h)"
   ]
  },
  {
   "cell_type": "code",
   "execution_count": null,
   "metadata": {},
   "outputs": [],
   "source": [
    "prob_fire = 0.001/0.2\n",
    "\n",
    "print('The probability of fire is',prob_fire)"
   ]
  },
  {
   "cell_type": "code",
   "execution_count": null,
   "metadata": {},
   "outputs": [],
   "source": [
    "prob_mechanical_failure = 0.0015/0.5\n",
    "\n",
    "print('The probability of mechanical failure is',prob_mechanical_failure)"
   ]
  },
  {
   "cell_type": "code",
   "execution_count": null,
   "metadata": {},
   "outputs": [],
   "source": [
    "prob_human_error = 0.0012/0.1\n",
    "\n",
    "print('The probability of human error is',round(prob_human_error,3))"
   ]
  },
  {
   "cell_type": "markdown",
   "metadata": {},
   "source": [
    "### 2.2 What is the probability of a radiation leak?"
   ]
  },
  {
   "cell_type": "markdown",
   "metadata": {},
   "source": [
    "Here we are about to find the probability of radiation leak P(r).\n",
    "\n",
    "To calculate no. of times the radiation leak is done by multiplying P(n) and P(r,n).\n",
    "\n",
    "P(r,n) = 0 ,as that no 2 or more accidents never occur together, so that probability will be 0 because you can't have all 3 of them acting at the same time.\n",
    "\n",
    "P(n) = 1-(P(f) + P(m) + P(h))\n",
    "\n",
    "this will 0 obiously as this is multiplied by P(r,n) which is 0.\n",
    "\n",
    "Therefore we can do this by adding all the probabilities that we have for the radiation leak P(r).\n",
    "This can be done by summing all the probabilities of causing radiation, i.e., radiation with fire, radiation with mechanical failures, radiation with human errors.\n",
    "P(r,f) , P(r,m), P(r,h)."
   ]
  },
  {
   "cell_type": "code",
   "execution_count": null,
   "metadata": {},
   "outputs": [],
   "source": [
    "#P(f,r) + P(m,r) + P(h,r)\n",
    "prob_radiation_leak = 0.001+0.0015+0.0012\n",
    "\n",
    "print('The probability of radiation leak P(r) is',prob_radiation_leak)"
   ]
  },
  {
   "cell_type": "markdown",
   "metadata": {},
   "source": [
    "### 2.3 Suppose there has been a radiation leak in the reactor for which the definite cause is not known. What is the probability that it has been caused by:\n",
    "\n",
    "**A Fire.**\n",
    "\n",
    "**A Mechanical Failure.**\n",
    "\n",
    "**A Human Error.**"
   ]
  },
  {
   "cell_type": "markdown",
   "metadata": {},
   "source": [
    "The probability of radiation caused by fire, mechanical failures, human errors is to found.\n",
    "\n",
    "This is conditional probability. \n",
    "\n",
    "The radiation is caused given that by fire P(f|r) = P(f,r)/P(r)\n",
    "\n",
    "The radiation is caused given that by mechanical failure  P(m|r) = P(m,r)/P(r)\n",
    "\n",
    "The radiation is caused given that by human error  P(h|r) = P(h,r)/P(r)\n",
    "\n"
   ]
  },
  {
   "cell_type": "code",
   "execution_count": null,
   "metadata": {},
   "outputs": [],
   "source": [
    "prob_radiation_fire = 0.001/0.0037\n",
    "\n",
    "print('The probability of a radiation leak in the reactor for which the cause is fire is',prob_radiation_fire)"
   ]
  },
  {
   "cell_type": "code",
   "execution_count": null,
   "metadata": {},
   "outputs": [],
   "source": [
    "prob_radiation_mechanical = 0.0015/0.0037\n",
    "\n",
    "print('The probability of a radiation leak in the reactor for which the cause is fire is',prob_radiation_mechanical)"
   ]
  },
  {
   "cell_type": "code",
   "execution_count": null,
   "metadata": {},
   "outputs": [],
   "source": [
    "prob_radiation_human_error = 0.0012/0.0037\n",
    "\n",
    "print('The probability of a radiation leak in the reactor for which the cause is fire is',prob_radiation_human_error)"
   ]
  },
  {
   "cell_type": "code",
   "execution_count": null,
   "metadata": {},
   "outputs": [],
   "source": []
  },
  {
   "cell_type": "markdown",
   "metadata": {},
   "source": [
    "### Problem 3:\n",
    "\n",
    "### The breaking strength of gunny bags used for packaging cement is normally distributed with a mean of 5 kg per sq. centimeter and a standard deviation of 1.5 kg per sq. centimeter. The quality team of the cement company wants to know the following about the packaging material to better understand wastage or pilferage within the supply chain; Answer the questions below based on the given information; (Provide an appropriate visual representation of your answers, without which marks will be deducted)\n",
    "\n",
    "\n",
    "\n",
    "**3.1 What proportion of the gunny bags have a breaking strength less than 3.17 kg per sq cm?**\n",
    "\n",
    "**3.2 What proportion of the gunny bags have a breaking strength at least 3.6 kg per sq cm.?**\n",
    "\n",
    "**3.3 What proportion of the gunny bags have a breaking strength between 5 and 5.5 kg per sq cm.?**\n",
    "\n",
    "**3.4 What proportion of the gunny bags have a breaking strength NOT between 3 and 7.5 kg per sq cm.?**"
   ]
  },
  {
   "cell_type": "markdown",
   "metadata": {},
   "source": [
    "Given that, \n",
    "mean = 5\n",
    "\n",
    "standard deviation = 1.5\n",
    "\n",
    "To calculate this, we will calculate the proportion of gunny bags breaking strenght by cumulative probability (cdf)\n",
    "\n",
    "$\n",
    "F_X(x) = P(X\\leq x)\n",
    "$\n",
    "\n",
    "$F_X(x)$\t=\tfunction of X\n",
    "\n",
    "X\t=\treal value variable\n",
    "\n",
    "P\t=\tprobability that X will have a value less than or equal to x"
   ]
  },
  {
   "cell_type": "markdown",
   "metadata": {},
   "source": [
    "### 3.1 What proportion of the gunny bags have a breaking strength less than 3.17 kg per sq cm?"
   ]
  },
  {
   "cell_type": "markdown",
   "metadata": {},
   "source": [
    "The proportion of the gunny bags having a breaking strength of less than 3.17 kg per sq cm is to be calculated.\n",
    "\n",
    "P(x ≤ 3.17) = 0.1112\n"
   ]
  },
  {
   "cell_type": "code",
   "execution_count": 54,
   "metadata": {},
   "outputs": [
    {
     "name": "stdout",
     "output_type": "stream",
     "text": [
      "The proportion of the gunny bags have a breaking strength less than 3.17 kg per sq cm is 11.12 %\n"
     ]
    }
   ],
   "source": [
    "prob_less_than_3_17 = stats.norm.cdf(3.17,5,1.5)\n",
    "\n",
    "print('The proportion of the gunny bags have a breaking strength less than 3.17 kg per sq cm is',round(prob_less_than_3_17*100,2),'%')"
   ]
  },
  {
   "cell_type": "code",
   "execution_count": 63,
   "metadata": {},
   "outputs": [],
   "source": [
    "ul = 5 + 3 * 1.5 #mean + 3 * sd\n",
    "ll = 5 - 3 * 1.5"
   ]
  },
  {
   "cell_type": "code",
   "execution_count": 65,
   "metadata": {},
   "outputs": [
    {
     "data": {
      "text/plain": [
       "0.5"
      ]
     },
     "execution_count": 65,
     "metadata": {},
     "output_type": "execute_result"
    }
   ],
   "source": [
    "ll"
   ]
  },
  {
   "cell_type": "code",
   "execution_count": 66,
   "metadata": {},
   "outputs": [
    {
     "data": {
      "image/png": "[encoded data removed]",
      "text/plain": [
       "<Figure size 432x288 with 1 Axes>"
      ]
     },
     "metadata": {
      "needs_background": "light"
     },
     "output_type": "display_data"
    }
   ],
   "source": [
    "from scipy.stats import norm\n",
    "\n",
    "density = pd.DataFrame()\n",
    "density['x'] = np.linspace(ul,ll,150)\n",
    "density['pdf'] = norm.pdf(density['x'],5,1.5)\n",
    "plt.plot(density[\"x\"], density[\"pdf\"])  # plot the pdf of the normal distribution\n",
    "plt.axvline(x=3.17, c=\"r\")  # draw a red vertical line at x = 3.17\n",
    "x1 = np.linspace(density[\"x\"].min(), 3.17, 50)  # create an array of 50 numbers between min and 3.17\n",
    "plt.fill_between(x1, norm.pdf(x1, 5, 1.5), color=\"r\") # fill the specified region with red color\n",
    "plt.xlabel(\"Kg per sq cms\") # set the x-axis label\n",
    "plt.ylabel(\"Probability\") # set the y-axis label\n",
    "plt.title(\"breaking strength less than 3.17 kg per sq cm\") # set the title\n",
    "plt.show() # display the plot"
   ]
  },
  {
   "cell_type": "markdown",
   "metadata": {},
   "source": [
    "### 3.2 What proportion of the gunny bags have a breaking strength at least 3.6 kg per sq cm.?"
   ]
  },
  {
   "cell_type": "markdown",
   "metadata": {},
   "source": [
    "The proportion of the gunny bags having a breaking strength of at least 3.6 kg per sq cm is to be calculated.\n",
    "\n",
    "That is greater than 3.6 kg per sq cm.\n",
    "\n",
    "P(x ≥ 3.17) = 1 - P(x ≤ 3.17) "
   ]
  },
  {
   "cell_type": "code",
   "execution_count": null,
   "metadata": {},
   "outputs": [],
   "source": [
    "prob_atleast_3_6 = 1-stats.norm.cdf(3.6,5,1.5)\n",
    "\n",
    "print('The proportion of the gunny bags have a breaking strength at least 3.6 kg per sq cm is',round(prob_atleast_3_6*100,2),'%')"
   ]
  },
  {
   "cell_type": "code",
   "execution_count": 67,
   "metadata": {},
   "outputs": [
    {
     "data": {
      "image/png": "[encoded data removed]",
      "text/plain": [
       "<Figure size 432x288 with 1 Axes>"
      ]
     },
     "metadata": {
      "needs_background": "light"
     },
     "output_type": "display_data"
    }
   ],
   "source": [
    "density = pd.DataFrame()\n",
    "density['x'] = np.linspace(ul,ll,150)\n",
    "density['pdf'] = norm.pdf(density['x'],5,1.5)\n",
    "plt.plot(density[\"x\"], density[\"pdf\"])  # plot the pdf of the normal distribution\n",
    "plt.axvline(x=3.6, c=\"r\")  # draw a red vertical line at x = 3.6\n",
    "x1 = np.linspace(density[\"x\"].max(), 3.6, 50)  # create an array of 50 numbers between max and 3.6\n",
    "plt.fill_between(x1, norm.pdf(x1, 5, 1.5), color=\"r\") # fill the specified region with red color\n",
    "plt.xlabel(\"Kg per sq cms\") # set the x-axis label\n",
    "plt.ylabel(\"Probability\") # set the y-axis label\n",
    "plt.title(\"breaking strength atleast 3.6 kg per sq cm\") # set the title\n",
    "plt.show() # display the plot"
   ]
  },
  {
   "cell_type": "markdown",
   "metadata": {},
   "source": [
    "### 3.3 What proportion of the gunny bags have a breaking strength between 5 and 5.5 kg per sq cm.?"
   ]
  },
  {
   "cell_type": "markdown",
   "metadata": {},
   "source": [
    "The proportion of the gunny bags having a breaking strength between 5 and 5.5 kg per sq cm is to be calculated.\n",
    "\n",
    "That is above 5 and below 5.5 kg per sq cm\n",
    "\n",
    "P(5 ≤ x ≤ 5.5) = P(x ≤ 5.5) – P(x ≤ 5)\n"
   ]
  },
  {
   "cell_type": "code",
   "execution_count": null,
   "metadata": {},
   "outputs": [],
   "source": [
    "prob_below_5_5 = stats.norm.cdf(5.5,5,1.5)\n",
    "\n",
    "print('The proportion of the gunny bags have a breaking strength below 5.5 kg per sq cm is',round(prob_below_5_5*100,2),'%')\n",
    "\n",
    "prob_below_5 = stats.norm.cdf(5,5,1.5)\n",
    "\n",
    "print('The proportion of the gunny bags have a breaking strength below 5 kg per sq cm is',round(prob_below_5*100,2),'%')\n",
    "\n",
    "prob_between_5and5_5 = prob_below_5_5*100 - prob_below_5*100\n",
    "\n",
    "print('The proportion of the gunny bags have a breaking strength between 5 and 5.5 kg per sq cm is',round(prob_between_5and5_5,2),'%')"
   ]
  },
  {
   "cell_type": "code",
   "execution_count": 68,
   "metadata": {},
   "outputs": [
    {
     "data": {
      "image/png": "[encoded data removed]",
      "text/plain": [
       "<Figure size 432x288 with 1 Axes>"
      ]
     },
     "metadata": {
      "needs_background": "light"
     },
     "output_type": "display_data"
    }
   ],
   "source": [
    "density = pd.DataFrame()\n",
    "density['x'] = np.linspace(ul,ll,150)\n",
    "density['pdf'] = norm.pdf(density['x'],5,1.5)\n",
    "plt.plot(density[\"x\"], density[\"pdf\"])  # plot the pdf of the normal distribution\n",
    "plt.axvline(x=5, c=\"r\")  # draw a red vertical line at x = 5\n",
    "plt.axvline(x=5.5, c=\"r\")# draw a red vertical line at x = 5.5\n",
    "x1 = np.linspace(5, 5.5, 50)  # create an array of 50 numbers between 5 and 5.5\n",
    "plt.fill_between(x1, norm.pdf(x1, 5, 1.5), color=\"r\") # fill the specified region with red color\n",
    "plt.xlabel(\"Kg per sq cms\") # set the x-axis label\n",
    "plt.ylabel(\"Probability\") # set the y-axis label\n",
    "plt.title(\"breaking strength between 5 and 5.5 kg per sq cm\") # set the title\n",
    "plt.show() # display the plot"
   ]
  },
  {
   "cell_type": "markdown",
   "metadata": {},
   "source": [
    "### 3.4 What proportion of the gunny bags have a breaking strength NOT between 3 and 7.5 kg per sq cm.?"
   ]
  },
  {
   "cell_type": "markdown",
   "metadata": {},
   "source": [
    "From the above problem we are asked to find the not between 3 and 7.5 kg per sq. cm that is we should find less than 3 and greater than 7.5 kg per sq. com\n",
    "\n",
    "To do this we calculate the cumulative probability of 3 and 1-(cdf(7.5)) gives the probability of bags have a breaking strength NOT between 3 and 7.5 kg per sq cm."
   ]
  },
  {
   "cell_type": "code",
   "execution_count": null,
   "metadata": {},
   "outputs": [],
   "source": [
    "prob_less_than_3 = stats.norm.cdf(3,5,1.5)\n",
    "\n",
    "print('The proportion of the gunny bags have a breaking strength less than 3 kg per sq cm is',round(prob_less_than_3*100,2),'%')\n",
    "\n",
    "prob_more_than_7_5 = 1 - stats.norm.cdf(7.5,5,1.5)\n",
    "\n",
    "print('The proportion of the gunny bags have a breaking strength more than 7.5 kg per sq cm is',round(prob_less_than_7_5*100,2),'%')\n",
    "\n",
    "print('The proportion of the gunny bags have a breaking strength NOT between 3 and 7.5 kg per sq cm is',round(prob_less_than_3*100,2),'%','and',round(prob_less_than_7_5*100,2),'%')"
   ]
  },
  {
   "cell_type": "code",
   "execution_count": 69,
   "metadata": {},
   "outputs": [
    {
     "data": {
      "image/png": "[encoded data removed]",
      "text/plain": [
       "<Figure size 432x288 with 1 Axes>"
      ]
     },
     "metadata": {
      "needs_background": "light"
     },
     "output_type": "display_data"
    }
   ],
   "source": [
    "density = pd.DataFrame()\n",
    "density['x'] = np.linspace(ul,ll,150)\n",
    "density['pdf'] = norm.pdf(density['x'],5,1.5)\n",
    "plt.plot(density[\"x\"], density[\"pdf\"])  # plot the pdf of the normal distribution\n",
    "plt.axvline(x=7.5, c=\"r\")  # draw a red vertical line at x = 7.5\n",
    "plt.axvline(x=3, c=\"r\")# draw a red vertical line at x = 3\n",
    "x1 = np.linspace(density[\"x\"].min(), 3, 50)# create an array of 50 numbers between min breaking strength kg per sq cm and 3\n",
    "x2 = np.linspace(density[\"x\"].max(), 7.5, 50)# create an array of 50 numbers between max breaking strength kg per sq cm and 7.5\n",
    "plt.fill_between(x1, norm.pdf(x1, 5, 1.5), color=\"r\") # fill the specified region with red color\n",
    "plt.fill_between(x2, norm.pdf(x2, 5, 1.5), color=\"r\")# fill the specified region with red color\n",
    "plt.xlabel(\"Kg per sq cms\") # set the x-axis label\n",
    "plt.ylabel(\"Probability\") # set the y-axis label\n",
    "plt.title(\"breaking strength atleast 3.6 kg per sq cm\") # set the title\n",
    "plt.show() # display the plot"
   ]
  },
  {
   "cell_type": "markdown",
   "metadata": {},
   "source": [
    "### Problem 4:\n",
    "\n",
    " \n",
    "\n",
    "### Grades of the final examination in a training course are found to be normally distributed, with a mean of 77 and a standard deviation of 8.5. Based on the given information answer the questions below.\n",
    "\n",
    " \n",
    "\n",
    "**4.1 What is the probability that a randomly chosen student gets a grade below 85 on this exam?**\n",
    "\n",
    "**4.2 What is the probability that a randomly selected student scores between 65 and 87?**\n",
    "\n",
    "**4.3 What should be the passing cut-off so that 75% of the students clear the exam?**"
   ]
  },
  {
   "cell_type": "markdown",
   "metadata": {},
   "source": [
    "### 4.1 What is the probability that a randomly chosen student gets a grade below 85 on this exam?"
   ]
  },
  {
   "cell_type": "markdown",
   "metadata": {},
   "source": [
    "Probability of a randomly chosen student gets grade below 85 can be calculated by:\n",
    "\n",
    "**1. Cumulative Distribution Function (CDF):**\n",
    "\n",
    "    The Cumulative Distribution Function (CDF) of a real-valued random variable X, evaluated at x, is the probability function that X will take a value less than or equal to x. It is used to describe the probability distribution of random variables in a table. \n",
    "    \n",
    "    \n",
    "\n",
    "\n",
    "**2. By Z score:**\n",
    "\n",
    "$\n",
    "z= \\dfrac{x-\\mu}{\\sigma}\n",
    "$\n",
    "  \n",
    "\n",
    "    The z-score value id from 0. Mean is at the middle of the normal distribution, so z score for 85 will from 77 to 85.We also need the area under 77 assume 0. As the grades are normally distributed, the other half would be 0.5.\n",
    "\n",
    "So we should add 0.5 + z-score."
   ]
  },
  {
   "cell_type": "code",
   "execution_count": null,
   "metadata": {},
   "outputs": [],
   "source": [
    "prob_below_85 = stats.norm.cdf(85,77,8.5)\n",
    "\n",
    "print('The probability of a randomly chosen student gets a grade below 85 on this exam is',round(prob_below_85,2))"
   ]
  },
  {
   "cell_type": "code",
   "execution_count": null,
   "metadata": {},
   "outputs": [],
   "source": [
    "mean = 77\n",
    "\n",
    "standard_Deviation = 8.5\n",
    "\n",
    "z = (85-77)/8.5\n",
    "\n",
    "print('The z is',round(z,2))\n",
    "print('The z score value of ',round(z,2),'is 0.3264')\n",
    "\n",
    "print('The The probability of a randomly chosen student gets a grade below 85 on this exam is',round(0.5+0.3264,2))"
   ]
  },
  {
   "cell_type": "code",
   "execution_count": 73,
   "metadata": {},
   "outputs": [
    {
     "data": {
      "text/plain": [
       "102.5"
      ]
     },
     "execution_count": 73,
     "metadata": {},
     "output_type": "execute_result"
    }
   ],
   "source": [
    "ul = 77 + 3 * 8.5\n",
    "ll = 77 - 3 * 8.5\n",
    "ul"
   ]
  },
  {
   "cell_type": "code",
   "execution_count": 74,
   "metadata": {},
   "outputs": [
    {
     "data": {
      "image/png": "[encoded data removed]",
      "text/plain": [
       "<Figure size 432x288 with 1 Axes>"
      ]
     },
     "metadata": {
      "needs_background": "light"
     },
     "output_type": "display_data"
    }
   ],
   "source": [
    "\n",
    "density = pd.DataFrame()\n",
    "density['x'] = np.linspace(ul,ll,200)\n",
    "density['pdf'] = norm.pdf(density['x'],77,8.5)\n",
    "plt.plot(density[\"x\"], density[\"pdf\"])  # plot the pdf of the normal distribution\n",
    "plt.axvline(x=85, c=\"r\")  # draw a red vertical line at x = 85\n",
    "x1 = np.linspace(density[\"x\"].min(), 85, 50)  # create an array of 50 numbers between min and 85\n",
    "plt.fill_between(x1, norm.pdf(x1, 77, 8.5), color=\"r\") # fill the specified region with red color\n",
    "plt.xlabel(\"Kg per sq cms\") # set the x-axis label\n",
    "plt.ylabel(\"Probability\") # set the y-axis label\n",
    "plt.title(\" Randomly selected student gets a grade below 85 on this exam\") # set the title\n",
    "plt.show() # display the plot"
   ]
  },
  {
   "cell_type": "markdown",
   "metadata": {},
   "source": [
    "### 4.2 What is the probability that a randomly selected student scores between 65 and 87?"
   ]
  },
  {
   "cell_type": "markdown",
   "metadata": {},
   "source": [
    "The proportion of a randomly selected student score between 65 and 87 is to be calculated.\n",
    "\n",
    "That is above 65 and below 87 scores.\n",
    "\n",
    "P(65 ≤ x ≤ 87) = P(x ≤ 87) – P(x ≤ 65)\n"
   ]
  },
  {
   "cell_type": "code",
   "execution_count": null,
   "metadata": {},
   "outputs": [],
   "source": [
    "prob_below_65 = stats.norm.cdf(65,77,8.5)\n",
    "prob_below_87 = stats.norm.cdf(87,77,8.5)\n",
    "\n",
    "print('The probability of a randomly selected student scores below 65  is',round( prob_below_65,3))\n",
    "print('The probability of a randomly selected student scores below  87 is',round(prob_below_87,3))\n",
    "print('The probability of a randomly selected student scores between 65 and 87 is',round(prob_below_87 - prob_below_65,3))"
   ]
  },
  {
   "cell_type": "code",
   "execution_count": 75,
   "metadata": {},
   "outputs": [
    {
     "data": {
      "image/png": "[encoded data removed]",
      "text/plain": [
       "<Figure size 432x288 with 1 Axes>"
      ]
     },
     "metadata": {
      "needs_background": "light"
     },
     "output_type": "display_data"
    }
   ],
   "source": [
    "density = pd.DataFrame()\n",
    "density['x'] = np.linspace(ul,ll,200)\n",
    "density['pdf'] = norm.pdf(density['x'],77,8.5)\n",
    "plt.plot(density[\"x\"], density[\"pdf\"])  # plot the pdf of the normal distribution\n",
    "plt.axvline(x=65, c=\"r\")  # draw a red vertical line at x = 65\n",
    "plt.axvline(x=87, c=\"r\")# draw a red vertical line at x = 87\n",
    "x1 = np.linspace(65, 87, 50)  # create an array of 50 numbers between 65 and 87\n",
    "plt.fill_between(x1, norm.pdf(x1, 77, 8.5), color=\"r\") # fill the specified region with red color\n",
    "plt.xlabel(\"Student Scores\") # set the x-axis label\n",
    "plt.ylabel(\"Probability\") # set the y-axis label\n",
    "plt.title(\"randomly selected student scoring between 65 and 87 marks\") # set the title\n",
    "plt.show() # display the plot"
   ]
  },
  {
   "cell_type": "markdown",
   "metadata": {},
   "source": [
    "### 4.3 What should be the passing cut-off so that 75% of the students clear the exam?"
   ]
  },
  {
   "cell_type": "markdown",
   "metadata": {},
   "source": [
    "Here we have find the cut off for 75%\n",
    "\n",
    "This can be done by percent point function (PPF) (or inverse cumulative distribution function)\n",
    "\n",
    "**percent point function (PPF):**\n",
    "    returns the value x of the variable that has a given cumulative distribution probability (cdf)\n",
    "    \n",
    "Here cdf is 75% => 0.75"
   ]
  },
  {
   "cell_type": "code",
   "execution_count": null,
   "metadata": {},
   "outputs": [],
   "source": [
    "cut_off = stats.norm.ppf(0.75,77,8.5)\n",
    "\n",
    "print('The cut-off marks so that 75% of the students clear the exam is',round(cut_off))"
   ]
  },
  {
   "cell_type": "markdown",
   "metadata": {},
   "source": [
    "## Problem 5:\n",
    "\n",
    " \n",
    "\n",
    "### Zingaro stone printing is a company that specializes in printing images or patterns on polished or unpolished stones. However, for the optimum level of printing of the image the stone surface has to have a Brinell's hardness index of at least 150. Recently, Zingaro has received a batch of polished and unpolished stones from its clients. Use the data provided to answer the following (assuming a 5% significance level);\n",
    "\n",
    " \n",
    "\n",
    "**5.1 Earlier experience of Zingaro with this particular client is favorable as the stone surface was found to be of adequate hardness. However, Zingaro has reason to believe now that the unpolished stones may not be suitable for printing. Do you think Zingaro is justified in thinking so?**\n",
    "\n",
    "**5.2 Is the mean hardness of the polished and unpolished stones the same?**"
   ]
  },
  {
   "cell_type": "markdown",
   "metadata": {},
   "source": [
    "To check the data, we should upload the data which is in csv.\n",
    "\n",
    "After uploading data, we should first check what is the content of the data. To check this we have head() function.\n",
    "\n",
    "We should know the shape of the data before procceding to the further process so we use shape attribute to get number of rows and columns in the data set.\n",
    "\n",
    "Next we check null values.\n",
    "\n",
    "Next step is to check the description of the data which given mean, Standard deviation, 25%, Median(50%),75%, minimun, maximum values.\n",
    "\n",
    "To get a clear approach about the data regarding the datatypes, columns, null values we use info() function."
   ]
  },
  {
   "cell_type": "code",
   "execution_count": 37,
   "metadata": {},
   "outputs": [],
   "source": [
    "zing = pd.read_csv('Zingaro_Company.csv')"
   ]
  },
  {
   "cell_type": "code",
   "execution_count": 38,
   "metadata": {},
   "outputs": [
    {
     "data": {
      "text/html": [
       "<div>\n",
       "<style scoped>\n",
       "    .dataframe tbody tr th:only-of-type {\n",
       "        vertical-align: middle;\n",
       "    }\n",
       "\n",
       "    .dataframe tbody tr th {\n",
       "        vertical-align: top;\n",
       "    }\n",
       "\n",
       "    .dataframe thead th {\n",
       "        text-align: right;\n",
       "    }\n",
       "</style>\n",
       "<table border=\"1\" class=\"dataframe\">\n",
       "  <thead>\n",
       "    <tr style=\"text-align: right;\">\n",
       "      <th></th>\n",
       "      <th>Unpolished</th>\n",
       "      <th>Treated and Polished</th>\n",
       "    </tr>\n",
       "  </thead>\n",
       "  <tbody>\n",
       "    <tr>\n",
       "      <th>0</th>\n",
       "      <td>164.481713</td>\n",
       "      <td>133.209393</td>\n",
       "    </tr>\n",
       "    <tr>\n",
       "      <th>1</th>\n",
       "      <td>154.307045</td>\n",
       "      <td>138.482771</td>\n",
       "    </tr>\n",
       "    <tr>\n",
       "      <th>2</th>\n",
       "      <td>129.861048</td>\n",
       "      <td>159.665201</td>\n",
       "    </tr>\n",
       "    <tr>\n",
       "      <th>3</th>\n",
       "      <td>159.096184</td>\n",
       "      <td>145.663528</td>\n",
       "    </tr>\n",
       "    <tr>\n",
       "      <th>4</th>\n",
       "      <td>135.256748</td>\n",
       "      <td>136.789227</td>\n",
       "    </tr>\n",
       "  </tbody>\n",
       "</table>\n",
       "</div>"
      ],
      "text/plain": [
       "   Unpolished   Treated and Polished\n",
       "0   164.481713            133.209393\n",
       "1   154.307045            138.482771\n",
       "2   129.861048            159.665201\n",
       "3   159.096184            145.663528\n",
       "4   135.256748            136.789227"
      ]
     },
     "execution_count": 38,
     "metadata": {},
     "output_type": "execute_result"
    }
   ],
   "source": [
    "zing.head()"
   ]
  },
  {
   "cell_type": "code",
   "execution_count": 39,
   "metadata": {},
   "outputs": [
    {
     "data": {
      "text/plain": [
       "(75, 2)"
      ]
     },
     "execution_count": 39,
     "metadata": {},
     "output_type": "execute_result"
    }
   ],
   "source": [
    "zing.shape"
   ]
  },
  {
   "cell_type": "code",
   "execution_count": 40,
   "metadata": {},
   "outputs": [
    {
     "data": {
      "text/plain": [
       "Index(['Unpolished ', 'Treated and Polished'], dtype='object')"
      ]
     },
     "execution_count": 40,
     "metadata": {},
     "output_type": "execute_result"
    }
   ],
   "source": [
    "zing.columns"
   ]
  },
  {
   "cell_type": "code",
   "execution_count": 41,
   "metadata": {},
   "outputs": [
    {
     "name": "stdout",
     "output_type": "stream",
     "text": [
      "<class 'pandas.core.frame.DataFrame'>\n",
      "RangeIndex: 75 entries, 0 to 74\n",
      "Data columns (total 2 columns):\n",
      " #   Column                Non-Null Count  Dtype  \n",
      "---  ------                --------------  -----  \n",
      " 0   Unpolished            75 non-null     float64\n",
      " 1   Treated and Polished  75 non-null     float64\n",
      "dtypes: float64(2)\n",
      "memory usage: 1.3 KB\n"
     ]
    }
   ],
   "source": [
    "zing.info()"
   ]
  },
  {
   "cell_type": "code",
   "execution_count": 42,
   "metadata": {},
   "outputs": [
    {
     "data": {
      "text/plain": [
       "Unpolished              0\n",
       "Treated and Polished    0\n",
       "dtype: int64"
      ]
     },
     "execution_count": 42,
     "metadata": {},
     "output_type": "execute_result"
    }
   ],
   "source": [
    "zing.isnull().sum()"
   ]
  },
  {
   "cell_type": "markdown",
   "metadata": {},
   "source": [
    "### 5.1 Earlier experience of Zingaro with this particular client is favorable as the stone surface was found to be of adequate hardness. However, Zingaro has reason to believe now that the unpolished stones may not be suitable for printing. Do you think Zingaro is justified in thinking so?"
   ]
  },
  {
   "cell_type": "markdown",
   "metadata": {},
   "source": [
    "According to Zingro the unpolished stones may not be suitable for printing.\n",
    "\n",
    "Checking the describe() output for Unpolished, we can see that the mean of the  Brinell's hardness for Unpolished stones is around 134 which is less than 150. There re 75 Unpolished stones in which there are only 24 stones with hardness above 150.\n",
    "\n",
    "This might be the reason why Zingaro has to believe that the unpolished stones may not be suitable for printing.\n",
    "\n"
   ]
  },
  {
   "cell_type": "code",
   "execution_count": 43,
   "metadata": {},
   "outputs": [
    {
     "data": {
      "text/html": [
       "<div>\n",
       "<style scoped>\n",
       "    .dataframe tbody tr th:only-of-type {\n",
       "        vertical-align: middle;\n",
       "    }\n",
       "\n",
       "    .dataframe tbody tr th {\n",
       "        vertical-align: top;\n",
       "    }\n",
       "\n",
       "    .dataframe thead th {\n",
       "        text-align: right;\n",
       "    }\n",
       "</style>\n",
       "<table border=\"1\" class=\"dataframe\">\n",
       "  <thead>\n",
       "    <tr style=\"text-align: right;\">\n",
       "      <th></th>\n",
       "      <th>Unpolished</th>\n",
       "      <th>Treated and Polished</th>\n",
       "    </tr>\n",
       "  </thead>\n",
       "  <tbody>\n",
       "    <tr>\n",
       "      <th>count</th>\n",
       "      <td>75.000000</td>\n",
       "      <td>75.000000</td>\n",
       "    </tr>\n",
       "    <tr>\n",
       "      <th>mean</th>\n",
       "      <td>134.110527</td>\n",
       "      <td>147.788117</td>\n",
       "    </tr>\n",
       "    <tr>\n",
       "      <th>std</th>\n",
       "      <td>33.041804</td>\n",
       "      <td>15.587355</td>\n",
       "    </tr>\n",
       "    <tr>\n",
       "      <th>min</th>\n",
       "      <td>48.406838</td>\n",
       "      <td>107.524167</td>\n",
       "    </tr>\n",
       "    <tr>\n",
       "      <th>25%</th>\n",
       "      <td>115.329753</td>\n",
       "      <td>138.268300</td>\n",
       "    </tr>\n",
       "    <tr>\n",
       "      <th>50%</th>\n",
       "      <td>135.597121</td>\n",
       "      <td>145.721322</td>\n",
       "    </tr>\n",
       "    <tr>\n",
       "      <th>75%</th>\n",
       "      <td>158.215098</td>\n",
       "      <td>157.373318</td>\n",
       "    </tr>\n",
       "    <tr>\n",
       "      <th>max</th>\n",
       "      <td>200.161313</td>\n",
       "      <td>192.272856</td>\n",
       "    </tr>\n",
       "  </tbody>\n",
       "</table>\n",
       "</div>"
      ],
      "text/plain": [
       "       Unpolished   Treated and Polished\n",
       "count    75.000000             75.000000\n",
       "mean    134.110527            147.788117\n",
       "std      33.041804             15.587355\n",
       "min      48.406838            107.524167\n",
       "25%     115.329753            138.268300\n",
       "50%     135.597121            145.721322\n",
       "75%     158.215098            157.373318\n",
       "max     200.161313            192.272856"
      ]
     },
     "execution_count": 43,
     "metadata": {},
     "output_type": "execute_result"
    }
   ],
   "source": [
    "zing.describe()"
   ]
  },
  {
   "cell_type": "code",
   "execution_count": 44,
   "metadata": {},
   "outputs": [
    {
     "data": {
      "text/plain": [
       "Unpolished              24\n",
       "Treated and Polished    24\n",
       "dtype: int64"
      ]
     },
     "execution_count": 44,
     "metadata": {},
     "output_type": "execute_result"
    }
   ],
   "source": [
    "zing.loc[df['Unpolished ']>150].count()"
   ]
  },
  {
   "cell_type": "code",
   "execution_count": 45,
   "metadata": {},
   "outputs": [
    {
     "data": {
      "text/plain": [
       "Unpolished              32\n",
       "Treated and Polished    32\n",
       "dtype: int64"
      ]
     },
     "execution_count": 45,
     "metadata": {},
     "output_type": "execute_result"
    }
   ],
   "source": [
    "zing.loc[df['Treated and Polished']>150].count()"
   ]
  },
  {
   "cell_type": "markdown",
   "metadata": {},
   "source": [
    "The mean of the hardness of the polished and unpolished stones are not same\n",
    "\n",
    "The mean of unpolished stones is 134 and Treated and Polished is around 148"
   ]
  },
  {
   "cell_type": "markdown",
   "metadata": {},
   "source": [
    "### 5.2 Is the mean hardness of the polished and unpolished stones the same?"
   ]
  },
  {
   "cell_type": "code",
   "execution_count": 46,
   "metadata": {},
   "outputs": [
    {
     "data": {
      "text/html": [
       "<div>\n",
       "<style scoped>\n",
       "    .dataframe tbody tr th:only-of-type {\n",
       "        vertical-align: middle;\n",
       "    }\n",
       "\n",
       "    .dataframe tbody tr th {\n",
       "        vertical-align: top;\n",
       "    }\n",
       "\n",
       "    .dataframe thead th {\n",
       "        text-align: right;\n",
       "    }\n",
       "</style>\n",
       "<table border=\"1\" class=\"dataframe\">\n",
       "  <thead>\n",
       "    <tr style=\"text-align: right;\">\n",
       "      <th></th>\n",
       "      <th>Unpolished</th>\n",
       "      <th>Treated and Polished</th>\n",
       "    </tr>\n",
       "  </thead>\n",
       "  <tbody>\n",
       "    <tr>\n",
       "      <th>count</th>\n",
       "      <td>75.000000</td>\n",
       "      <td>75.000000</td>\n",
       "    </tr>\n",
       "    <tr>\n",
       "      <th>mean</th>\n",
       "      <td>134.110527</td>\n",
       "      <td>147.788117</td>\n",
       "    </tr>\n",
       "    <tr>\n",
       "      <th>std</th>\n",
       "      <td>33.041804</td>\n",
       "      <td>15.587355</td>\n",
       "    </tr>\n",
       "    <tr>\n",
       "      <th>min</th>\n",
       "      <td>48.406838</td>\n",
       "      <td>107.524167</td>\n",
       "    </tr>\n",
       "    <tr>\n",
       "      <th>25%</th>\n",
       "      <td>115.329753</td>\n",
       "      <td>138.268300</td>\n",
       "    </tr>\n",
       "    <tr>\n",
       "      <th>50%</th>\n",
       "      <td>135.597121</td>\n",
       "      <td>145.721322</td>\n",
       "    </tr>\n",
       "    <tr>\n",
       "      <th>75%</th>\n",
       "      <td>158.215098</td>\n",
       "      <td>157.373318</td>\n",
       "    </tr>\n",
       "    <tr>\n",
       "      <th>max</th>\n",
       "      <td>200.161313</td>\n",
       "      <td>192.272856</td>\n",
       "    </tr>\n",
       "  </tbody>\n",
       "</table>\n",
       "</div>"
      ],
      "text/plain": [
       "       Unpolished   Treated and Polished\n",
       "count    75.000000             75.000000\n",
       "mean    134.110527            147.788117\n",
       "std      33.041804             15.587355\n",
       "min      48.406838            107.524167\n",
       "25%     115.329753            138.268300\n",
       "50%     135.597121            145.721322\n",
       "75%     158.215098            157.373318\n",
       "max     200.161313            192.272856"
      ]
     },
     "execution_count": 46,
     "metadata": {},
     "output_type": "execute_result"
    }
   ],
   "source": [
    "zing.describe()"
   ]
  },
  {
   "cell_type": "markdown",
   "metadata": {},
   "source": [
    "**Null hypothesis ($H_0$) : There is no difference in the means of the Unpolished and Polished stones.**\n",
    "\n",
    "**Alternate hypothesis ($H_a$) : Atleast one of the means is different for Unpolished and Polished stones.**"
   ]
  },
  {
   "cell_type": "code",
   "execution_count": 48,
   "metadata": {},
   "outputs": [
    {
     "data": {
      "text/plain": [
       "Ttest_relResult(statistic=-3.5589113215869057, pvalue=0.0006545976110249849)"
      ]
     },
     "execution_count": 48,
     "metadata": {},
     "output_type": "execute_result"
    }
   ],
   "source": [
    "stats.ttest_rel(zing['Unpolished '],zing['Treated and Polished'])"
   ]
  },
  {
   "cell_type": "markdown",
   "metadata": {},
   "source": [
    "**The p-value is less than alpha ($\\alpha$==0.05). So we reject the NULL HYPOTHESIS**\n",
    "\n",
    "**Therefore, we conclude that means of the Unpolished and Polished stones are different.**"
   ]
  },
  {
   "cell_type": "markdown",
   "metadata": {},
   "source": [
    "### Problem 6:\n",
    "\n",
    " \n",
    "\n",
    "### Aquarius health club, one of the largest and most popular cross-fit gyms in the country has been advertising a rigorous program for body conditioning. The program is considered successful if the candidate is able to do more than 5 push-ups, as compared to when he/she enrolled in the program. Using the sample data provided can you conclude whether the program is successful? (Consider the level of Significance as 5%)\n",
    "\n",
    "### Note that this is a problem of the paired-t-test. Since the claim is that the training will make a difference of more than 5, the null and alternative hypotheses must be formed accordingly."
   ]
  },
  {
   "cell_type": "markdown",
   "metadata": {},
   "source": [
    "To check the data, we should upload the data which is in csv.\n",
    "\n",
    "After uploading data, we should first check what is the content of the data. To check this we have head() function.\n",
    "\n",
    "We should know the shape of the data before procceding to the further process so we use shape attribute to get number of rows and columns in the data set.\n",
    "\n",
    "Next step is to check the description of the data which given mean, Standard deviation, 25%, Median(50%),75%, minimun, maximum values. \n",
    "\n",
    "To get a clear approach about the data regarding the datatypes, columns, null values we use info() function."
   ]
  },
  {
   "cell_type": "code",
   "execution_count": 18,
   "metadata": {},
   "outputs": [],
   "source": [
    "df = pd.read_csv('Aquarius_gym.csv')"
   ]
  },
  {
   "cell_type": "code",
   "execution_count": 50,
   "metadata": {},
   "outputs": [
    {
     "data": {
      "text/html": [
       "<div>\n",
       "<style scoped>\n",
       "    .dataframe tbody tr th:only-of-type {\n",
       "        vertical-align: middle;\n",
       "    }\n",
       "\n",
       "    .dataframe tbody tr th {\n",
       "        vertical-align: top;\n",
       "    }\n",
       "\n",
       "    .dataframe thead th {\n",
       "        text-align: right;\n",
       "    }\n",
       "</style>\n",
       "<table border=\"1\" class=\"dataframe\">\n",
       "  <thead>\n",
       "    <tr style=\"text-align: right;\">\n",
       "      <th></th>\n",
       "      <th>Unpolished</th>\n",
       "      <th>Treated and Polished</th>\n",
       "    </tr>\n",
       "  </thead>\n",
       "  <tbody>\n",
       "    <tr>\n",
       "      <th>0</th>\n",
       "      <td>164.481713</td>\n",
       "      <td>133.209393</td>\n",
       "    </tr>\n",
       "    <tr>\n",
       "      <th>1</th>\n",
       "      <td>154.307045</td>\n",
       "      <td>138.482771</td>\n",
       "    </tr>\n",
       "    <tr>\n",
       "      <th>2</th>\n",
       "      <td>129.861048</td>\n",
       "      <td>159.665201</td>\n",
       "    </tr>\n",
       "    <tr>\n",
       "      <th>3</th>\n",
       "      <td>159.096184</td>\n",
       "      <td>145.663528</td>\n",
       "    </tr>\n",
       "    <tr>\n",
       "      <th>4</th>\n",
       "      <td>135.256748</td>\n",
       "      <td>136.789227</td>\n",
       "    </tr>\n",
       "  </tbody>\n",
       "</table>\n",
       "</div>"
      ],
      "text/plain": [
       "   Unpolished   Treated and Polished\n",
       "0   164.481713            133.209393\n",
       "1   154.307045            138.482771\n",
       "2   129.861048            159.665201\n",
       "3   159.096184            145.663528\n",
       "4   135.256748            136.789227"
      ]
     },
     "execution_count": 50,
     "metadata": {},
     "output_type": "execute_result"
    }
   ],
   "source": [
    "df.head()"
   ]
  },
  {
   "cell_type": "code",
   "execution_count": 25,
   "metadata": {},
   "outputs": [
    {
     "name": "stdout",
     "output_type": "stream",
     "text": [
      "<class 'pandas.core.frame.DataFrame'>\n",
      "RangeIndex: 100 entries, 0 to 99\n",
      "Data columns (total 3 columns):\n",
      " #   Column  Non-Null Count  Dtype\n",
      "---  ------  --------------  -----\n",
      " 0   Sr no.  100 non-null    int64\n",
      " 1   Before  100 non-null    int64\n",
      " 2   After   100 non-null    int64\n",
      "dtypes: int64(3)\n",
      "memory usage: 2.5 KB\n"
     ]
    }
   ],
   "source": [
    "df.info()"
   ]
  },
  {
   "cell_type": "code",
   "execution_count": 23,
   "metadata": {},
   "outputs": [
    {
     "data": {
      "text/html": [
       "<div>\n",
       "<style scoped>\n",
       "    .dataframe tbody tr th:only-of-type {\n",
       "        vertical-align: middle;\n",
       "    }\n",
       "\n",
       "    .dataframe tbody tr th {\n",
       "        vertical-align: top;\n",
       "    }\n",
       "\n",
       "    .dataframe thead th {\n",
       "        text-align: right;\n",
       "    }\n",
       "</style>\n",
       "<table border=\"1\" class=\"dataframe\">\n",
       "  <thead>\n",
       "    <tr style=\"text-align: right;\">\n",
       "      <th></th>\n",
       "      <th>Sr no.</th>\n",
       "      <th>Before</th>\n",
       "      <th>After</th>\n",
       "    </tr>\n",
       "  </thead>\n",
       "  <tbody>\n",
       "    <tr>\n",
       "      <th>count</th>\n",
       "      <td>100.000000</td>\n",
       "      <td>100.000000</td>\n",
       "      <td>100.000000</td>\n",
       "    </tr>\n",
       "    <tr>\n",
       "      <th>mean</th>\n",
       "      <td>50.500000</td>\n",
       "      <td>26.940000</td>\n",
       "      <td>32.490000</td>\n",
       "    </tr>\n",
       "    <tr>\n",
       "      <th>std</th>\n",
       "      <td>29.011492</td>\n",
       "      <td>8.806357</td>\n",
       "      <td>8.779562</td>\n",
       "    </tr>\n",
       "    <tr>\n",
       "      <th>min</th>\n",
       "      <td>1.000000</td>\n",
       "      <td>3.000000</td>\n",
       "      <td>10.000000</td>\n",
       "    </tr>\n",
       "    <tr>\n",
       "      <th>25%</th>\n",
       "      <td>25.750000</td>\n",
       "      <td>21.750000</td>\n",
       "      <td>26.000000</td>\n",
       "    </tr>\n",
       "    <tr>\n",
       "      <th>50%</th>\n",
       "      <td>50.500000</td>\n",
       "      <td>28.000000</td>\n",
       "      <td>34.000000</td>\n",
       "    </tr>\n",
       "    <tr>\n",
       "      <th>75%</th>\n",
       "      <td>75.250000</td>\n",
       "      <td>32.250000</td>\n",
       "      <td>39.000000</td>\n",
       "    </tr>\n",
       "    <tr>\n",
       "      <th>max</th>\n",
       "      <td>100.000000</td>\n",
       "      <td>47.000000</td>\n",
       "      <td>51.000000</td>\n",
       "    </tr>\n",
       "  </tbody>\n",
       "</table>\n",
       "</div>"
      ],
      "text/plain": [
       "           Sr no.      Before       After\n",
       "count  100.000000  100.000000  100.000000\n",
       "mean    50.500000   26.940000   32.490000\n",
       "std     29.011492    8.806357    8.779562\n",
       "min      1.000000    3.000000   10.000000\n",
       "25%     25.750000   21.750000   26.000000\n",
       "50%     50.500000   28.000000   34.000000\n",
       "75%     75.250000   32.250000   39.000000\n",
       "max    100.000000   47.000000   51.000000"
      ]
     },
     "execution_count": 23,
     "metadata": {},
     "output_type": "execute_result"
    }
   ],
   "source": [
    "df.describe()"
   ]
  },
  {
   "cell_type": "code",
   "execution_count": 27,
   "metadata": {},
   "outputs": [],
   "source": [
    "df['Difference'] = df['After'] - df['Before']"
   ]
  },
  {
   "cell_type": "code",
   "execution_count": 28,
   "metadata": {},
   "outputs": [
    {
     "data": {
      "text/html": [
       "<div>\n",
       "<style scoped>\n",
       "    .dataframe tbody tr th:only-of-type {\n",
       "        vertical-align: middle;\n",
       "    }\n",
       "\n",
       "    .dataframe tbody tr th {\n",
       "        vertical-align: top;\n",
       "    }\n",
       "\n",
       "    .dataframe thead th {\n",
       "        text-align: right;\n",
       "    }\n",
       "</style>\n",
       "<table border=\"1\" class=\"dataframe\">\n",
       "  <thead>\n",
       "    <tr style=\"text-align: right;\">\n",
       "      <th></th>\n",
       "      <th>Sr no.</th>\n",
       "      <th>Before</th>\n",
       "      <th>After</th>\n",
       "      <th>Difference</th>\n",
       "    </tr>\n",
       "  </thead>\n",
       "  <tbody>\n",
       "    <tr>\n",
       "      <th>0</th>\n",
       "      <td>1</td>\n",
       "      <td>39</td>\n",
       "      <td>44</td>\n",
       "      <td>5</td>\n",
       "    </tr>\n",
       "    <tr>\n",
       "      <th>1</th>\n",
       "      <td>2</td>\n",
       "      <td>25</td>\n",
       "      <td>25</td>\n",
       "      <td>0</td>\n",
       "    </tr>\n",
       "    <tr>\n",
       "      <th>2</th>\n",
       "      <td>3</td>\n",
       "      <td>39</td>\n",
       "      <td>39</td>\n",
       "      <td>0</td>\n",
       "    </tr>\n",
       "    <tr>\n",
       "      <th>3</th>\n",
       "      <td>4</td>\n",
       "      <td>6</td>\n",
       "      <td>13</td>\n",
       "      <td>7</td>\n",
       "    </tr>\n",
       "    <tr>\n",
       "      <th>4</th>\n",
       "      <td>5</td>\n",
       "      <td>40</td>\n",
       "      <td>44</td>\n",
       "      <td>4</td>\n",
       "    </tr>\n",
       "  </tbody>\n",
       "</table>\n",
       "</div>"
      ],
      "text/plain": [
       "   Sr no.  Before  After  Difference\n",
       "0       1      39     44           5\n",
       "1       2      25     25           0\n",
       "2       3      39     39           0\n",
       "3       4       6     13           7\n",
       "4       5      40     44           4"
      ]
     },
     "execution_count": 28,
     "metadata": {},
     "output_type": "execute_result"
    }
   ],
   "source": [
    "df.head()"
   ]
  },
  {
   "cell_type": "code",
   "execution_count": 29,
   "metadata": {},
   "outputs": [
    {
     "data": {
      "text/html": [
       "<div>\n",
       "<style scoped>\n",
       "    .dataframe tbody tr th:only-of-type {\n",
       "        vertical-align: middle;\n",
       "    }\n",
       "\n",
       "    .dataframe tbody tr th {\n",
       "        vertical-align: top;\n",
       "    }\n",
       "\n",
       "    .dataframe thead th {\n",
       "        text-align: right;\n",
       "    }\n",
       "</style>\n",
       "<table border=\"1\" class=\"dataframe\">\n",
       "  <thead>\n",
       "    <tr style=\"text-align: right;\">\n",
       "      <th></th>\n",
       "      <th>Sr no.</th>\n",
       "      <th>Before</th>\n",
       "      <th>After</th>\n",
       "      <th>Difference</th>\n",
       "    </tr>\n",
       "  </thead>\n",
       "  <tbody>\n",
       "    <tr>\n",
       "      <th>count</th>\n",
       "      <td>100.000000</td>\n",
       "      <td>100.000000</td>\n",
       "      <td>100.000000</td>\n",
       "      <td>100.000000</td>\n",
       "    </tr>\n",
       "    <tr>\n",
       "      <th>mean</th>\n",
       "      <td>50.500000</td>\n",
       "      <td>26.940000</td>\n",
       "      <td>32.490000</td>\n",
       "      <td>5.550000</td>\n",
       "    </tr>\n",
       "    <tr>\n",
       "      <th>std</th>\n",
       "      <td>29.011492</td>\n",
       "      <td>8.806357</td>\n",
       "      <td>8.779562</td>\n",
       "      <td>2.872281</td>\n",
       "    </tr>\n",
       "    <tr>\n",
       "      <th>min</th>\n",
       "      <td>1.000000</td>\n",
       "      <td>3.000000</td>\n",
       "      <td>10.000000</td>\n",
       "      <td>0.000000</td>\n",
       "    </tr>\n",
       "    <tr>\n",
       "      <th>25%</th>\n",
       "      <td>25.750000</td>\n",
       "      <td>21.750000</td>\n",
       "      <td>26.000000</td>\n",
       "      <td>3.750000</td>\n",
       "    </tr>\n",
       "    <tr>\n",
       "      <th>50%</th>\n",
       "      <td>50.500000</td>\n",
       "      <td>28.000000</td>\n",
       "      <td>34.000000</td>\n",
       "      <td>6.000000</td>\n",
       "    </tr>\n",
       "    <tr>\n",
       "      <th>75%</th>\n",
       "      <td>75.250000</td>\n",
       "      <td>32.250000</td>\n",
       "      <td>39.000000</td>\n",
       "      <td>8.000000</td>\n",
       "    </tr>\n",
       "    <tr>\n",
       "      <th>max</th>\n",
       "      <td>100.000000</td>\n",
       "      <td>47.000000</td>\n",
       "      <td>51.000000</td>\n",
       "      <td>10.000000</td>\n",
       "    </tr>\n",
       "  </tbody>\n",
       "</table>\n",
       "</div>"
      ],
      "text/plain": [
       "           Sr no.      Before       After  Difference\n",
       "count  100.000000  100.000000  100.000000  100.000000\n",
       "mean    50.500000   26.940000   32.490000    5.550000\n",
       "std     29.011492    8.806357    8.779562    2.872281\n",
       "min      1.000000    3.000000   10.000000    0.000000\n",
       "25%     25.750000   21.750000   26.000000    3.750000\n",
       "50%     50.500000   28.000000   34.000000    6.000000\n",
       "75%     75.250000   32.250000   39.000000    8.000000\n",
       "max    100.000000   47.000000   51.000000   10.000000"
      ]
     },
     "execution_count": 29,
     "metadata": {},
     "output_type": "execute_result"
    }
   ],
   "source": [
    "df.describe()"
   ]
  },
  {
   "cell_type": "markdown",
   "metadata": {},
   "source": [
    "Paired t-test is the type of t-test that we apply when we want to explore whether the two means of two related samples are significantly different.\n",
    "\n",
    "For paired t-test always uses the following null hypothesis:\n",
    "    \n",
    "$\\mu$1= $\\mu$2\n",
    "    \n",
    "The alternative hypothesis can be either two-tailed, left-tailed, or right-tailed:\n",
    "\n",
    "\n",
    "H1 (two-tailed): μ1 ≠ μ2 (the two population means are not equal)\n",
    "\n",
    "H1 (left-tailed): μ1 < μ2 (population 1 mean is less than population 2 mean)\n",
    "\n",
    "H1 (right-tailed): μ1> μ2 (population 1 mean is greater than population 2 mean)\n",
    "\n",
    "**In this case it is two tailed**"
   ]
  },
  {
   "cell_type": "markdown",
   "metadata": {},
   "source": [
    "The statistic t value can be found by  \n",
    "\n",
    "t = xdiff / (sdiff/√n)\n",
    "\n",
    "xdiff: sample mean of the differences\n",
    "s: sample standard deviation of the differences\n",
    "n: sample size (i.e. number of pairs)\n",
    "\n",
    "Degree of freedom (df)= n-1 =>100-1 \n",
    "\n",
    "df = 99\n",
    "\n",
    "Level of significance is 5%\n",
    "\n",
    "i.e., alpa($ \\alpha $) = 0.05"
   ]
  },
  {
   "cell_type": "markdown",
   "metadata": {},
   "source": [
    "**Null hypothesis  ($H_0$) : There is no difference in the number of push ups before and after the cross-fit gyms program**\n",
    "\n",
    "**Alternate hypothesis  ($H_a$) :  There is difference in the number of push ups before and after the cross-fit gyms program**"
   ]
  },
  {
   "cell_type": "code",
   "execution_count": 24,
   "metadata": {},
   "outputs": [
    {
     "name": "stdout",
     "output_type": "stream",
     "text": [
      "The t statistics is 19.138\n"
     ]
    }
   ],
   "source": [
    "t_stat = 5.550/(2.872/100**0.5)\n",
    "\n",
    "print('The t statistics is',round(t_stat,3))"
   ]
  },
  {
   "cell_type": "markdown",
   "metadata": {},
   "source": [
    "The p value is less than 0.0001 so we reject null hypothesis."
   ]
  },
  {
   "cell_type": "code",
   "execution_count": 19,
   "metadata": {},
   "outputs": [
    {
     "data": {
      "text/plain": [
       "Ttest_relResult(statistic=19.322619811082458, pvalue=2.2920419252511966e-35)"
      ]
     },
     "execution_count": 19,
     "metadata": {},
     "output_type": "execute_result"
    }
   ],
   "source": [
    "stats.ttest_rel(df['After'],df['Before'])"
   ]
  },
  {
   "cell_type": "markdown",
   "metadata": {},
   "source": [
    "\n",
    "Since the p-value is less than 0.05, we reject the null hypothesis. We have sufficient evidence to say that the mean count of push ups before and after enrolling in cross-fit gym are different.\n",
    "\n",
    "**From this, we can conclude that the program was successful.**"
   ]
  },
  {
   "cell_type": "markdown",
   "metadata": {},
   "source": [
    "### Problem 7:\n",
    "\n",
    " \n",
    "\n",
    "### Dental implant data: The hardness of metal implant in dental cavities depends on multiple factors, such as the method of implant, the temperature at which the metal is treated, the alloy used as well as on the dentists who may favour one method above another and may work better in his/her favourite method. The response is the variable of interest.\n",
    "\n",
    "### 7.1 Test whether there is any difference among the dentists on the implant hardness. State the null and alternative hypotheses. Note that both types of alloys cannot be considered together. You must state the null and alternative hypotheses separately for the two types of alloys.?\n",
    "\n",
    "### 7.2 Before the hypotheses may be tested, state the required assumptions. Are the assumptions fulfilled? Comment separately on both alloy types.? \n",
    "\n",
    "### 7.3 Irrespective of your conclusion in 2, we will continue with the testing procedure. What do you conclude regarding whether implant hardness depends on dentists? Clearly state your conclusion. If the null hypothesis is rejected, is it possible to identify which pairs of dentists differ?\n",
    "\n",
    "### 7.4 Now test whether there is any difference among the methods on the hardness of dental implant, separately for the two types of alloys. What are your conclusions? If the null hypothesis is rejected, is it possible to identify which pairs of methods differ?\n",
    "\n",
    "### 7.5 Now test whether there is any difference among the temperature levels on the hardness of dental implant, separately for the two types of alloys. What are your conclusions? If the null hypothesis is rejected, is it possible to identify which levels of temperatures differ?\n",
    "\n",
    "### 7.6 Consider the interaction effect of dentist and method and comment on the interaction plot, separately for the two types of alloys?\n",
    "\n",
    "### 7.7 Now consider the effect of both factors, dentist, and method, separately on each alloy. What do you conclude? Is it possible to identify which dentists are different, which methods are different, and which interaction levels are different?"
   ]
  },
  {
   "cell_type": "markdown",
   "metadata": {},
   "source": [
    "To check the data, we should upload the data which is in excel.\n",
    "\n",
    "After uploading data, we should first check what is the content of the data. To check this we have head() function.\n",
    "\n",
    "We should know the shape of the data before procceding to the further process so we use shape attribute to get number of rows and columns in the data set.\n",
    "\n",
    "From this we can see that the data set has **106 rows and 14 columns**.\n",
    "\n",
    "Next step is to check the description of the data which given mean, Standard deviation, 25%, Median(50%),75%, minimun, maximum values. But we can see that Dentist, Method, Alloy are having the above description which are actucally not numeric but categorical.\n",
    "\n",
    "To get a clear approach about the data regarding the datatypes, columns, null values we use info() function.\n",
    "\n",
    "Have observing the information from the info() function we see that Dentist, Method, Alloy are in numberic data type which are actually in encoded form. So must be in Categorical data type.\n",
    "\n",
    "To change the data types of these columns we use pd.Categorical() function.\n",
    "\n",
    "From the info() output we have also seen few null values in some columns. These are to be treated. \n",
    "If the data is very large number of null values it is better to drop those columns.\n",
    "\n",
    "We confirmed that there are null values in the data set. So let's find the total number of null vaues in each column by isnull().sum() functions.\n",
    "\n",
    "From this, we see that Unnamed: 5 and 6 have 107 null values that is those columns are completely filled with null values. Also Unnamed:12 and 13 have more than 100 null values. \n",
    "\n",
    "But from the bussiness problem that we have, we can drop the all unnamed columns as there is not much useful information.\n",
    "\n",
    "Now we should deal with the null values in the Dentist, Method, Alloy, Temp, Response which have 17 null values.\n",
    "As Dentist, Method, Alloy are categorical values, we can use mode() to fill the null values and Temp, Response are numerical values so mean() we can be used to fill null values.\n"
   ]
  },
  {
   "cell_type": "code",
   "execution_count": 91,
   "metadata": {},
   "outputs": [],
   "source": [
    "df1 = pd.read_excel('Dental+Hardness+data.xlsx')"
   ]
  },
  {
   "cell_type": "code",
   "execution_count": 92,
   "metadata": {},
   "outputs": [
    {
     "data": {
      "text/html": [
       "<div>\n",
       "<style scoped>\n",
       "    .dataframe tbody tr th:only-of-type {\n",
       "        vertical-align: middle;\n",
       "    }\n",
       "\n",
       "    .dataframe tbody tr th {\n",
       "        vertical-align: top;\n",
       "    }\n",
       "\n",
       "    .dataframe thead th {\n",
       "        text-align: right;\n",
       "    }\n",
       "</style>\n",
       "<table border=\"1\" class=\"dataframe\">\n",
       "  <thead>\n",
       "    <tr style=\"text-align: right;\">\n",
       "      <th></th>\n",
       "      <th>Dentist</th>\n",
       "      <th>Method</th>\n",
       "      <th>Alloy</th>\n",
       "      <th>Temp</th>\n",
       "      <th>Response</th>\n",
       "      <th>Unnamed: 5</th>\n",
       "      <th>Unnamed: 6</th>\n",
       "      <th>Unnamed: 7</th>\n",
       "      <th>Unnamed: 8</th>\n",
       "      <th>Unnamed: 9</th>\n",
       "      <th>Unnamed: 10</th>\n",
       "      <th>Unnamed: 11</th>\n",
       "      <th>Unnamed: 12</th>\n",
       "      <th>Unnamed: 13</th>\n",
       "    </tr>\n",
       "  </thead>\n",
       "  <tbody>\n",
       "    <tr>\n",
       "      <th>0</th>\n",
       "      <td>1.0</td>\n",
       "      <td>1.0</td>\n",
       "      <td>1.0</td>\n",
       "      <td>1500.0</td>\n",
       "      <td>813.0</td>\n",
       "      <td>NaN</td>\n",
       "      <td>NaN</td>\n",
       "      <td>Anova: Two-Factor Without Replication</td>\n",
       "      <td>NaN</td>\n",
       "      <td>NaN</td>\n",
       "      <td>NaN</td>\n",
       "      <td>NaN</td>\n",
       "      <td>NaN</td>\n",
       "      <td>NaN</td>\n",
       "    </tr>\n",
       "    <tr>\n",
       "      <th>1</th>\n",
       "      <td>1.0</td>\n",
       "      <td>1.0</td>\n",
       "      <td>1.0</td>\n",
       "      <td>1600.0</td>\n",
       "      <td>792.0</td>\n",
       "      <td>NaN</td>\n",
       "      <td>NaN</td>\n",
       "      <td>NaN</td>\n",
       "      <td>NaN</td>\n",
       "      <td>NaN</td>\n",
       "      <td>NaN</td>\n",
       "      <td>NaN</td>\n",
       "      <td>NaN</td>\n",
       "      <td>NaN</td>\n",
       "    </tr>\n",
       "    <tr>\n",
       "      <th>2</th>\n",
       "      <td>1.0</td>\n",
       "      <td>1.0</td>\n",
       "      <td>1.0</td>\n",
       "      <td>1700.0</td>\n",
       "      <td>792.0</td>\n",
       "      <td>NaN</td>\n",
       "      <td>NaN</td>\n",
       "      <td>SUMMARY</td>\n",
       "      <td>Count</td>\n",
       "      <td>Sum</td>\n",
       "      <td>Average</td>\n",
       "      <td>Variance</td>\n",
       "      <td>NaN</td>\n",
       "      <td>NaN</td>\n",
       "    </tr>\n",
       "    <tr>\n",
       "      <th>3</th>\n",
       "      <td>1.0</td>\n",
       "      <td>1.0</td>\n",
       "      <td>2.0</td>\n",
       "      <td>1500.0</td>\n",
       "      <td>907.0</td>\n",
       "      <td>NaN</td>\n",
       "      <td>NaN</td>\n",
       "      <td>1</td>\n",
       "      <td>4</td>\n",
       "      <td>2315</td>\n",
       "      <td>578.75</td>\n",
       "      <td>523722</td>\n",
       "      <td>NaN</td>\n",
       "      <td>NaN</td>\n",
       "    </tr>\n",
       "    <tr>\n",
       "      <th>4</th>\n",
       "      <td>1.0</td>\n",
       "      <td>1.0</td>\n",
       "      <td>2.0</td>\n",
       "      <td>1600.0</td>\n",
       "      <td>792.0</td>\n",
       "      <td>NaN</td>\n",
       "      <td>NaN</td>\n",
       "      <td>1</td>\n",
       "      <td>4</td>\n",
       "      <td>2394</td>\n",
       "      <td>598.5</td>\n",
       "      <td>584819</td>\n",
       "      <td>NaN</td>\n",
       "      <td>NaN</td>\n",
       "    </tr>\n",
       "  </tbody>\n",
       "</table>\n",
       "</div>"
      ],
      "text/plain": [
       "   Dentist  Method  Alloy    Temp  Response  Unnamed: 5  Unnamed: 6  \\\n",
       "0      1.0     1.0    1.0  1500.0     813.0         NaN         NaN   \n",
       "1      1.0     1.0    1.0  1600.0     792.0         NaN         NaN   \n",
       "2      1.0     1.0    1.0  1700.0     792.0         NaN         NaN   \n",
       "3      1.0     1.0    2.0  1500.0     907.0         NaN         NaN   \n",
       "4      1.0     1.0    2.0  1600.0     792.0         NaN         NaN   \n",
       "\n",
       "                              Unnamed: 7 Unnamed: 8 Unnamed: 9 Unnamed: 10  \\\n",
       "0  Anova: Two-Factor Without Replication        NaN        NaN         NaN   \n",
       "1                                    NaN        NaN        NaN         NaN   \n",
       "2                                SUMMARY      Count        Sum     Average   \n",
       "3                                      1          4       2315      578.75   \n",
       "4                                      1          4       2394       598.5   \n",
       "\n",
       "  Unnamed: 11 Unnamed: 12 Unnamed: 13  \n",
       "0         NaN         NaN         NaN  \n",
       "1         NaN         NaN         NaN  \n",
       "2    Variance         NaN         NaN  \n",
       "3      523722         NaN         NaN  \n",
       "4      584819         NaN         NaN  "
      ]
     },
     "execution_count": 92,
     "metadata": {},
     "output_type": "execute_result"
    }
   ],
   "source": [
    "df1.head()"
   ]
  },
  {
   "cell_type": "code",
   "execution_count": 93,
   "metadata": {},
   "outputs": [
    {
     "data": {
      "text/plain": [
       "(107, 14)"
      ]
     },
     "execution_count": 93,
     "metadata": {},
     "output_type": "execute_result"
    }
   ],
   "source": [
    "df1.shape"
   ]
  },
  {
   "cell_type": "code",
   "execution_count": 94,
   "metadata": {},
   "outputs": [
    {
     "name": "stdout",
     "output_type": "stream",
     "text": [
      "<class 'pandas.core.frame.DataFrame'>\n",
      "RangeIndex: 107 entries, 0 to 106\n",
      "Data columns (total 14 columns):\n",
      " #   Column       Non-Null Count  Dtype  \n",
      "---  ------       --------------  -----  \n",
      " 0   Dentist      90 non-null     float64\n",
      " 1   Method       90 non-null     float64\n",
      " 2   Alloy        90 non-null     float64\n",
      " 3   Temp         90 non-null     float64\n",
      " 4   Response     90 non-null     float64\n",
      " 5   Unnamed: 5   0 non-null      float64\n",
      " 6   Unnamed: 6   0 non-null      float64\n",
      " 7   Unnamed: 7   102 non-null    object \n",
      " 8   Unnamed: 8   100 non-null    object \n",
      " 9   Unnamed: 9   100 non-null    object \n",
      " 10  Unnamed: 10  99 non-null     object \n",
      " 11  Unnamed: 11  98 non-null     object \n",
      " 12  Unnamed: 12  3 non-null      object \n",
      " 13  Unnamed: 13  3 non-null      object \n",
      "dtypes: float64(7), object(7)\n",
      "memory usage: 11.8+ KB\n"
     ]
    }
   ],
   "source": [
    "df1.info()"
   ]
  },
  {
   "cell_type": "code",
   "execution_count": 95,
   "metadata": {},
   "outputs": [],
   "source": [
    "df1['Dentist']=pd.Categorical(df1['Dentist'])\n",
    "df1['Method']=pd.Categorical(df1['Method'])\n",
    "df1['Alloy']=pd.Categorical(df1['Alloy'])"
   ]
  },
  {
   "cell_type": "code",
   "execution_count": 96,
   "metadata": {},
   "outputs": [
    {
     "name": "stdout",
     "output_type": "stream",
     "text": [
      "<class 'pandas.core.frame.DataFrame'>\n",
      "RangeIndex: 107 entries, 0 to 106\n",
      "Data columns (total 14 columns):\n",
      " #   Column       Non-Null Count  Dtype   \n",
      "---  ------       --------------  -----   \n",
      " 0   Dentist      90 non-null     category\n",
      " 1   Method       90 non-null     category\n",
      " 2   Alloy        90 non-null     category\n",
      " 3   Temp         90 non-null     float64 \n",
      " 4   Response     90 non-null     float64 \n",
      " 5   Unnamed: 5   0 non-null      float64 \n",
      " 6   Unnamed: 6   0 non-null      float64 \n",
      " 7   Unnamed: 7   102 non-null    object  \n",
      " 8   Unnamed: 8   100 non-null    object  \n",
      " 9   Unnamed: 9   100 non-null    object  \n",
      " 10  Unnamed: 10  99 non-null     object  \n",
      " 11  Unnamed: 11  98 non-null     object  \n",
      " 12  Unnamed: 12  3 non-null      object  \n",
      " 13  Unnamed: 13  3 non-null      object  \n",
      "dtypes: category(3), float64(4), object(7)\n",
      "memory usage: 10.0+ KB\n"
     ]
    }
   ],
   "source": [
    "df1.info()"
   ]
  },
  {
   "cell_type": "code",
   "execution_count": 97,
   "metadata": {},
   "outputs": [
    {
     "data": {
      "text/html": [
       "<div>\n",
       "<style scoped>\n",
       "    .dataframe tbody tr th:only-of-type {\n",
       "        vertical-align: middle;\n",
       "    }\n",
       "\n",
       "    .dataframe tbody tr th {\n",
       "        vertical-align: top;\n",
       "    }\n",
       "\n",
       "    .dataframe thead th {\n",
       "        text-align: right;\n",
       "    }\n",
       "</style>\n",
       "<table border=\"1\" class=\"dataframe\">\n",
       "  <thead>\n",
       "    <tr style=\"text-align: right;\">\n",
       "      <th></th>\n",
       "      <th>count</th>\n",
       "      <th>mean</th>\n",
       "      <th>std</th>\n",
       "      <th>min</th>\n",
       "      <th>25%</th>\n",
       "      <th>50%</th>\n",
       "      <th>75%</th>\n",
       "      <th>max</th>\n",
       "    </tr>\n",
       "  </thead>\n",
       "  <tbody>\n",
       "    <tr>\n",
       "      <th>Temp</th>\n",
       "      <td>90.0</td>\n",
       "      <td>1600.000000</td>\n",
       "      <td>82.107083</td>\n",
       "      <td>1500.0</td>\n",
       "      <td>1500.0</td>\n",
       "      <td>1600.0</td>\n",
       "      <td>1700.0</td>\n",
       "      <td>1700.0</td>\n",
       "    </tr>\n",
       "    <tr>\n",
       "      <th>Response</th>\n",
       "      <td>90.0</td>\n",
       "      <td>741.777778</td>\n",
       "      <td>145.767845</td>\n",
       "      <td>289.0</td>\n",
       "      <td>698.0</td>\n",
       "      <td>767.0</td>\n",
       "      <td>824.0</td>\n",
       "      <td>1115.0</td>\n",
       "    </tr>\n",
       "    <tr>\n",
       "      <th>Unnamed: 5</th>\n",
       "      <td>0.0</td>\n",
       "      <td>NaN</td>\n",
       "      <td>NaN</td>\n",
       "      <td>NaN</td>\n",
       "      <td>NaN</td>\n",
       "      <td>NaN</td>\n",
       "      <td>NaN</td>\n",
       "      <td>NaN</td>\n",
       "    </tr>\n",
       "    <tr>\n",
       "      <th>Unnamed: 6</th>\n",
       "      <td>0.0</td>\n",
       "      <td>NaN</td>\n",
       "      <td>NaN</td>\n",
       "      <td>NaN</td>\n",
       "      <td>NaN</td>\n",
       "      <td>NaN</td>\n",
       "      <td>NaN</td>\n",
       "      <td>NaN</td>\n",
       "    </tr>\n",
       "  </tbody>\n",
       "</table>\n",
       "</div>"
      ],
      "text/plain": [
       "            count         mean         std     min     25%     50%     75%  \\\n",
       "Temp         90.0  1600.000000   82.107083  1500.0  1500.0  1600.0  1700.0   \n",
       "Response     90.0   741.777778  145.767845   289.0   698.0   767.0   824.0   \n",
       "Unnamed: 5    0.0          NaN         NaN     NaN     NaN     NaN     NaN   \n",
       "Unnamed: 6    0.0          NaN         NaN     NaN     NaN     NaN     NaN   \n",
       "\n",
       "               max  \n",
       "Temp        1700.0  \n",
       "Response    1115.0  \n",
       "Unnamed: 5     NaN  \n",
       "Unnamed: 6     NaN  "
      ]
     },
     "execution_count": 97,
     "metadata": {},
     "output_type": "execute_result"
    }
   ],
   "source": [
    "df1.describe().T"
   ]
  },
  {
   "cell_type": "code",
   "execution_count": 98,
   "metadata": {},
   "outputs": [
    {
     "data": {
      "text/plain": [
       "Dentist         17\n",
       "Method          17\n",
       "Alloy           17\n",
       "Temp            17\n",
       "Response        17\n",
       "Unnamed: 5     107\n",
       "Unnamed: 6     107\n",
       "Unnamed: 7       5\n",
       "Unnamed: 8       7\n",
       "Unnamed: 9       7\n",
       "Unnamed: 10      8\n",
       "Unnamed: 11      9\n",
       "Unnamed: 12    104\n",
       "Unnamed: 13    104\n",
       "dtype: int64"
      ]
     },
     "execution_count": 98,
     "metadata": {},
     "output_type": "execute_result"
    }
   ],
   "source": [
    "df1.isnull().sum()"
   ]
  },
  {
   "cell_type": "code",
   "execution_count": 99,
   "metadata": {},
   "outputs": [],
   "source": [
    "df1.drop(['Unnamed: 5','Unnamed: 6','Unnamed: 7','Unnamed: 8','Unnamed: 9','Unnamed: 10','Unnamed: 11','Unnamed: 12','Unnamed: 13'],axis=1,inplace=True)"
   ]
  },
  {
   "cell_type": "code",
   "execution_count": 100,
   "metadata": {},
   "outputs": [
    {
     "data": {
      "text/html": [
       "<div>\n",
       "<style scoped>\n",
       "    .dataframe tbody tr th:only-of-type {\n",
       "        vertical-align: middle;\n",
       "    }\n",
       "\n",
       "    .dataframe tbody tr th {\n",
       "        vertical-align: top;\n",
       "    }\n",
       "\n",
       "    .dataframe thead th {\n",
       "        text-align: right;\n",
       "    }\n",
       "</style>\n",
       "<table border=\"1\" class=\"dataframe\">\n",
       "  <thead>\n",
       "    <tr style=\"text-align: right;\">\n",
       "      <th></th>\n",
       "      <th>Dentist</th>\n",
       "      <th>Method</th>\n",
       "      <th>Alloy</th>\n",
       "      <th>Temp</th>\n",
       "      <th>Response</th>\n",
       "    </tr>\n",
       "  </thead>\n",
       "  <tbody>\n",
       "    <tr>\n",
       "      <th>0</th>\n",
       "      <td>1.0</td>\n",
       "      <td>1.0</td>\n",
       "      <td>1.0</td>\n",
       "      <td>1500.0</td>\n",
       "      <td>813.0</td>\n",
       "    </tr>\n",
       "    <tr>\n",
       "      <th>1</th>\n",
       "      <td>1.0</td>\n",
       "      <td>1.0</td>\n",
       "      <td>1.0</td>\n",
       "      <td>1600.0</td>\n",
       "      <td>792.0</td>\n",
       "    </tr>\n",
       "    <tr>\n",
       "      <th>2</th>\n",
       "      <td>1.0</td>\n",
       "      <td>1.0</td>\n",
       "      <td>1.0</td>\n",
       "      <td>1700.0</td>\n",
       "      <td>792.0</td>\n",
       "    </tr>\n",
       "    <tr>\n",
       "      <th>3</th>\n",
       "      <td>1.0</td>\n",
       "      <td>1.0</td>\n",
       "      <td>2.0</td>\n",
       "      <td>1500.0</td>\n",
       "      <td>907.0</td>\n",
       "    </tr>\n",
       "    <tr>\n",
       "      <th>4</th>\n",
       "      <td>1.0</td>\n",
       "      <td>1.0</td>\n",
       "      <td>2.0</td>\n",
       "      <td>1600.0</td>\n",
       "      <td>792.0</td>\n",
       "    </tr>\n",
       "  </tbody>\n",
       "</table>\n",
       "</div>"
      ],
      "text/plain": [
       "  Dentist Method Alloy    Temp  Response\n",
       "0     1.0    1.0   1.0  1500.0     813.0\n",
       "1     1.0    1.0   1.0  1600.0     792.0\n",
       "2     1.0    1.0   1.0  1700.0     792.0\n",
       "3     1.0    1.0   2.0  1500.0     907.0\n",
       "4     1.0    1.0   2.0  1600.0     792.0"
      ]
     },
     "execution_count": 100,
     "metadata": {},
     "output_type": "execute_result"
    }
   ],
   "source": [
    "df1.head()"
   ]
  },
  {
   "cell_type": "code",
   "execution_count": 101,
   "metadata": {},
   "outputs": [],
   "source": [
    "df1['Dentist'] = df1['Dentist'].fillna(df1['Dentist'].mode().values[0])"
   ]
  },
  {
   "cell_type": "code",
   "execution_count": 102,
   "metadata": {},
   "outputs": [],
   "source": [
    "df1['Method'] = df1['Method'].fillna(df1['Method'].mode().values[0])"
   ]
  },
  {
   "cell_type": "code",
   "execution_count": 103,
   "metadata": {},
   "outputs": [],
   "source": [
    "df1['Alloy'] = df1['Alloy'].fillna(df1['Alloy'].mode().values[0])"
   ]
  },
  {
   "cell_type": "code",
   "execution_count": 104,
   "metadata": {},
   "outputs": [],
   "source": [
    "df1['Temp'] = df1['Temp'].fillna(df1['Temp'].mean())"
   ]
  },
  {
   "cell_type": "code",
   "execution_count": 105,
   "metadata": {},
   "outputs": [],
   "source": [
    "df1['Response'] = df1['Response'].fillna(df1['Response'].mean())"
   ]
  },
  {
   "cell_type": "code",
   "execution_count": 106,
   "metadata": {},
   "outputs": [
    {
     "data": {
      "text/plain": [
       "Dentist     0\n",
       "Method      0\n",
       "Alloy       0\n",
       "Temp        0\n",
       "Response    0\n",
       "dtype: int64"
      ]
     },
     "execution_count": 106,
     "metadata": {},
     "output_type": "execute_result"
    }
   ],
   "source": [
    "df1.isnull().sum()"
   ]
  },
  {
   "cell_type": "code",
   "execution_count": 107,
   "metadata": {},
   "outputs": [
    {
     "data": {
      "text/html": [
       "<div>\n",
       "<style scoped>\n",
       "    .dataframe tbody tr th:only-of-type {\n",
       "        vertical-align: middle;\n",
       "    }\n",
       "\n",
       "    .dataframe tbody tr th {\n",
       "        vertical-align: top;\n",
       "    }\n",
       "\n",
       "    .dataframe thead th {\n",
       "        text-align: right;\n",
       "    }\n",
       "</style>\n",
       "<table border=\"1\" class=\"dataframe\">\n",
       "  <thead>\n",
       "    <tr style=\"text-align: right;\">\n",
       "      <th></th>\n",
       "      <th>Dentist</th>\n",
       "      <th>Method</th>\n",
       "      <th>Alloy</th>\n",
       "      <th>Temp</th>\n",
       "      <th>Response</th>\n",
       "    </tr>\n",
       "  </thead>\n",
       "  <tbody>\n",
       "    <tr>\n",
       "      <th>0</th>\n",
       "      <td>1.0</td>\n",
       "      <td>1.0</td>\n",
       "      <td>1.0</td>\n",
       "      <td>1500.0</td>\n",
       "      <td>813.0</td>\n",
       "    </tr>\n",
       "    <tr>\n",
       "      <th>1</th>\n",
       "      <td>1.0</td>\n",
       "      <td>1.0</td>\n",
       "      <td>1.0</td>\n",
       "      <td>1600.0</td>\n",
       "      <td>792.0</td>\n",
       "    </tr>\n",
       "    <tr>\n",
       "      <th>2</th>\n",
       "      <td>1.0</td>\n",
       "      <td>1.0</td>\n",
       "      <td>1.0</td>\n",
       "      <td>1700.0</td>\n",
       "      <td>792.0</td>\n",
       "    </tr>\n",
       "    <tr>\n",
       "      <th>3</th>\n",
       "      <td>1.0</td>\n",
       "      <td>1.0</td>\n",
       "      <td>2.0</td>\n",
       "      <td>1500.0</td>\n",
       "      <td>907.0</td>\n",
       "    </tr>\n",
       "    <tr>\n",
       "      <th>4</th>\n",
       "      <td>1.0</td>\n",
       "      <td>1.0</td>\n",
       "      <td>2.0</td>\n",
       "      <td>1600.0</td>\n",
       "      <td>792.0</td>\n",
       "    </tr>\n",
       "  </tbody>\n",
       "</table>\n",
       "</div>"
      ],
      "text/plain": [
       "  Dentist Method Alloy    Temp  Response\n",
       "0     1.0    1.0   1.0  1500.0     813.0\n",
       "1     1.0    1.0   1.0  1600.0     792.0\n",
       "2     1.0    1.0   1.0  1700.0     792.0\n",
       "3     1.0    1.0   2.0  1500.0     907.0\n",
       "4     1.0    1.0   2.0  1600.0     792.0"
      ]
     },
     "execution_count": 107,
     "metadata": {},
     "output_type": "execute_result"
    }
   ],
   "source": [
    "df1.head()"
   ]
  },
  {
   "cell_type": "code",
   "execution_count": 108,
   "metadata": {},
   "outputs": [
    {
     "data": {
      "text/html": [
       "<div>\n",
       "<style scoped>\n",
       "    .dataframe tbody tr th:only-of-type {\n",
       "        vertical-align: middle;\n",
       "    }\n",
       "\n",
       "    .dataframe tbody tr th {\n",
       "        vertical-align: top;\n",
       "    }\n",
       "\n",
       "    .dataframe thead th {\n",
       "        text-align: right;\n",
       "    }\n",
       "</style>\n",
       "<table border=\"1\" class=\"dataframe\">\n",
       "  <thead>\n",
       "    <tr style=\"text-align: right;\">\n",
       "      <th></th>\n",
       "      <th>count</th>\n",
       "      <th>mean</th>\n",
       "      <th>std</th>\n",
       "      <th>min</th>\n",
       "      <th>25%</th>\n",
       "      <th>50%</th>\n",
       "      <th>75%</th>\n",
       "      <th>max</th>\n",
       "    </tr>\n",
       "  </thead>\n",
       "  <tbody>\n",
       "    <tr>\n",
       "      <th>Temp</th>\n",
       "      <td>107.0</td>\n",
       "      <td>1600.000000</td>\n",
       "      <td>75.235479</td>\n",
       "      <td>1500.0</td>\n",
       "      <td>1500.0</td>\n",
       "      <td>1600.0</td>\n",
       "      <td>1700.0</td>\n",
       "      <td>1700.0</td>\n",
       "    </tr>\n",
       "    <tr>\n",
       "      <th>Response</th>\n",
       "      <td>107.0</td>\n",
       "      <td>741.777778</td>\n",
       "      <td>133.568425</td>\n",
       "      <td>289.0</td>\n",
       "      <td>711.0</td>\n",
       "      <td>743.0</td>\n",
       "      <td>813.0</td>\n",
       "      <td>1115.0</td>\n",
       "    </tr>\n",
       "  </tbody>\n",
       "</table>\n",
       "</div>"
      ],
      "text/plain": [
       "          count         mean         std     min     25%     50%     75%  \\\n",
       "Temp      107.0  1600.000000   75.235479  1500.0  1500.0  1600.0  1700.0   \n",
       "Response  107.0   741.777778  133.568425   289.0   711.0   743.0   813.0   \n",
       "\n",
       "             max  \n",
       "Temp      1700.0  \n",
       "Response  1115.0  "
      ]
     },
     "execution_count": 108,
     "metadata": {},
     "output_type": "execute_result"
    }
   ],
   "source": [
    "df1.describe().T"
   ]
  },
  {
   "cell_type": "markdown",
   "metadata": {},
   "source": [
    "### 7.1 Test whether there is any difference among the dentists on the implant hardness. State the null and alternative hypotheses. Note that both types of alloys cannot be considered together. You must state the null and alternative hypotheses separately for the two types of alloys.?"
   ]
  },
  {
   "cell_type": "markdown",
   "metadata": {},
   "source": [
    "Points from the business problem to remember:\n",
    "1. The implant hardness depends on the method of implant, the temperature at which the metal is treated, the alloy used and dentists. \n",
    "\n",
    "2. Response is the variable of interest.\n",
    "\n",
    "3. The two types of alloys cannot be considered together.\n",
    "\n",
    "4. There are five different dentists.\n",
    "\n",
    "**State the null and alternative hypotheses.**\n",
    "\n",
    "### Null hypothesis  ($H_0$) : There is no difference in the means of implant hardness among 5 different Dentists\n",
    "\n",
    "\n",
    "### Alternate hypothesis  ($H_a$) :  Atleast one of the means is different for among different Dentists.\n",
    "\n",
    "\n",
    "**Test whether there is any difference among the dentists on the implant hardness.**\n",
    "\n",
    "For testing this, we need to upload few packages.\n"
   ]
  },
  {
   "cell_type": "code",
   "execution_count": 109,
   "metadata": {},
   "outputs": [],
   "source": [
    "from statsmodels.formula.api import ols      # For n-way ANOVA\n",
    "from statsmodels.stats.anova import _get_covariance,anova_lm # For n-way ANOVA"
   ]
  },
  {
   "cell_type": "code",
   "execution_count": 110,
   "metadata": {},
   "outputs": [
    {
     "data": {
      "text/html": [
       "<div>\n",
       "<style scoped>\n",
       "    .dataframe tbody tr th:only-of-type {\n",
       "        vertical-align: middle;\n",
       "    }\n",
       "\n",
       "    .dataframe tbody tr th {\n",
       "        vertical-align: top;\n",
       "    }\n",
       "\n",
       "    .dataframe thead th {\n",
       "        text-align: right;\n",
       "    }\n",
       "</style>\n",
       "<table border=\"1\" class=\"dataframe\">\n",
       "  <thead>\n",
       "    <tr style=\"text-align: right;\">\n",
       "      <th></th>\n",
       "      <th>df</th>\n",
       "      <th>sum_sq</th>\n",
       "      <th>mean_sq</th>\n",
       "      <th>F</th>\n",
       "      <th>PR(&gt;F)</th>\n",
       "    </tr>\n",
       "  </thead>\n",
       "  <tbody>\n",
       "    <tr>\n",
       "      <th>C(Dentist)</th>\n",
       "      <td>4.0</td>\n",
       "      <td>1.428980e+05</td>\n",
       "      <td>35724.498810</td>\n",
       "      <td>2.084375</td>\n",
       "      <td>0.088268</td>\n",
       "    </tr>\n",
       "    <tr>\n",
       "      <th>Residual</th>\n",
       "      <td>102.0</td>\n",
       "      <td>1.748198e+06</td>\n",
       "      <td>17139.191768</td>\n",
       "      <td>NaN</td>\n",
       "      <td>NaN</td>\n",
       "    </tr>\n",
       "  </tbody>\n",
       "</table>\n",
       "</div>"
      ],
      "text/plain": [
       "               df        sum_sq       mean_sq         F    PR(>F)\n",
       "C(Dentist)    4.0  1.428980e+05  35724.498810  2.084375  0.088268\n",
       "Residual    102.0  1.748198e+06  17139.191768       NaN       NaN"
      ]
     },
     "execution_count": 110,
     "metadata": {},
     "output_type": "execute_result"
    }
   ],
   "source": [
    "formula = 'Response ~ C(Dentist)'\n",
    "model = ols(formula, df1).fit()\n",
    "aov_table = anova_lm(model)\n",
    "(aov_table)"
   ]
  },
  {
   "cell_type": "markdown",
   "metadata": {},
   "source": [
    "**The corresponding p-value for Dentist with respect to response is more than alpha (𝛼  = 0.05).Thus we fail to reject NULL HYPOTHESIS ($𝐻_0$ )**\n",
    "\n",
    "That is we could say that there is no difference in the  hardness of the implants made amoung different dentists.\n"
   ]
  },
  {
   "cell_type": "markdown",
   "metadata": {},
   "source": [
    "\n",
    "**State the null and alternative hypotheses separately for the two types of alloys.**\n",
    "\n",
    "Two alloys used - Alloy A and Alloy B.\n",
    "\n",
    "### Null hypothesis for alloy A ($H_0$A)= There is no difference in the means of implant hardness for alloy A\n",
    "\n",
    "\n",
    "### Alternate hypothesis for alloy A ($H_a$A) = Atleast one of the means is different for alloy A\n"
   ]
  },
  {
   "cell_type": "code",
   "execution_count": 111,
   "metadata": {},
   "outputs": [],
   "source": [
    "Alloy_A=df1.loc[df1['Alloy']==1].reset_index()"
   ]
  },
  {
   "cell_type": "code",
   "execution_count": 112,
   "metadata": {},
   "outputs": [],
   "source": [
    "Alloy_B=df1.loc[df1['Alloy']==2].reset_index()"
   ]
  },
  {
   "cell_type": "code",
   "execution_count": 113,
   "metadata": {},
   "outputs": [
    {
     "data": {
      "text/html": [
       "<div>\n",
       "<style scoped>\n",
       "    .dataframe tbody tr th:only-of-type {\n",
       "        vertical-align: middle;\n",
       "    }\n",
       "\n",
       "    .dataframe tbody tr th {\n",
       "        vertical-align: top;\n",
       "    }\n",
       "\n",
       "    .dataframe thead th {\n",
       "        text-align: right;\n",
       "    }\n",
       "</style>\n",
       "<table border=\"1\" class=\"dataframe\">\n",
       "  <thead>\n",
       "    <tr style=\"text-align: right;\">\n",
       "      <th></th>\n",
       "      <th>df</th>\n",
       "      <th>sum_sq</th>\n",
       "      <th>mean_sq</th>\n",
       "      <th>F</th>\n",
       "      <th>PR(&gt;F)</th>\n",
       "    </tr>\n",
       "  </thead>\n",
       "  <tbody>\n",
       "    <tr>\n",
       "      <th>C(Method)</th>\n",
       "      <td>2.0</td>\n",
       "      <td>162281.666853</td>\n",
       "      <td>81140.833427</td>\n",
       "      <td>9.60338</td>\n",
       "      <td>0.000245</td>\n",
       "    </tr>\n",
       "    <tr>\n",
       "      <th>Residual</th>\n",
       "      <td>59.0</td>\n",
       "      <td>498502.542824</td>\n",
       "      <td>8449.195641</td>\n",
       "      <td>NaN</td>\n",
       "      <td>NaN</td>\n",
       "    </tr>\n",
       "  </tbody>\n",
       "</table>\n",
       "</div>"
      ],
      "text/plain": [
       "             df         sum_sq       mean_sq        F    PR(>F)\n",
       "C(Method)   2.0  162281.666853  81140.833427  9.60338  0.000245\n",
       "Residual   59.0  498502.542824   8449.195641      NaN       NaN"
      ]
     },
     "execution_count": 113,
     "metadata": {},
     "output_type": "execute_result"
    }
   ],
   "source": [
    "formula = 'Response ~ C(Method)'\n",
    "model = ols(formula, Alloy_A).fit()\n",
    "aov_table = anova_lm(model)\n",
    "(aov_table)"
   ]
  },
  {
   "cell_type": "markdown",
   "metadata": {},
   "source": [
    "**The corresponding p-value for Dentist for Alloy_A with respect to response is less than alpha (𝛼  = 0.05).Thus we reject NULL HYPOTHESIS ($𝐻_0$ )**\n",
    "\n",
    "That is we could say that there is difference in the  hardness of the implants made amoung different dentists when Alloy A is used."
   ]
  },
  {
   "cell_type": "markdown",
   "metadata": {},
   "source": [
    "### Null hypothesis for alloy B ($H_0$B)= There is no difference in the means of implant hardness for alloy B\n",
    "\n",
    "\n",
    "### Alternate hypothesis for alloy B ($H_a$B) = Atleast one of the means is different for alloy B"
   ]
  },
  {
   "cell_type": "code",
   "execution_count": 114,
   "metadata": {},
   "outputs": [
    {
     "data": {
      "text/html": [
       "<div>\n",
       "<style scoped>\n",
       "    .dataframe tbody tr th:only-of-type {\n",
       "        vertical-align: middle;\n",
       "    }\n",
       "\n",
       "    .dataframe tbody tr th {\n",
       "        vertical-align: top;\n",
       "    }\n",
       "\n",
       "    .dataframe thead th {\n",
       "        text-align: right;\n",
       "    }\n",
       "</style>\n",
       "<table border=\"1\" class=\"dataframe\">\n",
       "  <thead>\n",
       "    <tr style=\"text-align: right;\">\n",
       "      <th></th>\n",
       "      <th>df</th>\n",
       "      <th>sum_sq</th>\n",
       "      <th>mean_sq</th>\n",
       "      <th>F</th>\n",
       "      <th>PR(&gt;F)</th>\n",
       "    </tr>\n",
       "  </thead>\n",
       "  <tbody>\n",
       "    <tr>\n",
       "      <th>C(Method)</th>\n",
       "      <td>2.0</td>\n",
       "      <td>499640.4</td>\n",
       "      <td>249820.200000</td>\n",
       "      <td>16.4108</td>\n",
       "      <td>0.000005</td>\n",
       "    </tr>\n",
       "    <tr>\n",
       "      <th>Residual</th>\n",
       "      <td>42.0</td>\n",
       "      <td>639362.4</td>\n",
       "      <td>15222.914286</td>\n",
       "      <td>NaN</td>\n",
       "      <td>NaN</td>\n",
       "    </tr>\n",
       "  </tbody>\n",
       "</table>\n",
       "</div>"
      ],
      "text/plain": [
       "             df    sum_sq        mean_sq        F    PR(>F)\n",
       "C(Method)   2.0  499640.4  249820.200000  16.4108  0.000005\n",
       "Residual   42.0  639362.4   15222.914286      NaN       NaN"
      ]
     },
     "execution_count": 114,
     "metadata": {},
     "output_type": "execute_result"
    }
   ],
   "source": [
    "formula = 'Response ~ C(Method)'\n",
    "model = ols(formula, Alloy_B).fit()\n",
    "aov_table = anova_lm(model)\n",
    "(aov_table)"
   ]
  },
  {
   "cell_type": "markdown",
   "metadata": {},
   "source": [
    "**The corresponding p-value for Dentist for Alloy_B with respect to response is less than alpha (𝛼  = 0.05).Thus we reject NULL HYPOTHESIS ($𝐻_0$ )**\n",
    "\n",
    "That is we could say that there is difference in the  hardness of the implants made amoung different dentists when Alloy B is used."
   ]
  },
  {
   "cell_type": "markdown",
   "metadata": {},
   "source": [
    "### 7.2 Before the hypotheses may be tested, state the required assumptions. Are the assumptions fulfilled? Comment separately on both alloy types.?"
   ]
  },
  {
   "cell_type": "markdown",
   "metadata": {},
   "source": [
    "The Assumptions are:\n",
    "\n",
    "1. Scale of measurement: The data collected is continuous. Here the Response is continuous  variable.\n",
    "2. Simple random sample: Randomly selected portion\n",
    "3. The data must be normally distributed.\n",
    "4. Large sample\n",
    "5. Homogeneity of variance"
   ]
  },
  {
   "cell_type": "code",
   "execution_count": 115,
   "metadata": {},
   "outputs": [],
   "source": [
    "Dentist_1 = df1[df1['Dentist']==1]['Response']\n",
    "Dentist_2 = df1[df1['Dentist']==2]['Response']\n",
    "Dentist_3 = df1[df1['Dentist']==3]['Response']\n",
    "Dentist_4 = df1[df1['Dentist']==4]['Response']\n",
    "Dentist_5 = df1[df1['Dentist']==5]['Response']\n",
    "\n",
    "Method_1 = df1[df1['Method']==1]['Response']\n",
    "Method_2 = df1[df1['Method']==2]['Response']\n",
    "Method_3 = df1[df1['Method']==3]['Response']\n",
    "\n",
    "Alloy_1 = df1[df1['Alloy']==1]['Response']\n",
    "Alloy_2 = df1[df1['Alloy']==2]['Response']"
   ]
  },
  {
   "cell_type": "markdown",
   "metadata": {},
   "source": [
    "The **Shapiro-Wilk test** tests the null hypothesis that the data was drawn from a normal distribution.\n",
    "\n",
    "alpha($\\alpha$) = 0.05\n",
    "\n",
    "if p-value is less than 0.05 we say null hypothesis is passed.\n",
    "\n",
    "**The Null Hypothesis ($H_0$) : The Sample data is normally distributed data**\n",
    "\n",
    "**The Alternate Hypothesis ($H_a$) : The Sample data is not from normal distribution data**\n",
    "\n",
    "The **Anderson Darling** test is used when Shapiro test is failed.\n",
    "\n",
    "if p-value is greater than 0.05 we say null hypothesis is passed.\n"
   ]
  },
  {
   "cell_type": "code",
   "execution_count": 116,
   "metadata": {},
   "outputs": [
    {
     "name": "stdout",
     "output_type": "stream",
     "text": [
      "Shapiro-wilk test for Different dentists\n",
      "ShapiroResult(statistic=0.8316380977630615, pvalue=9.077133290702477e-05)\n",
      "ShapiroResult(statistic=0.9665580987930298, pvalue=0.731051504611969)\n",
      "ShapiroResult(statistic=0.9573882818222046, pvalue=0.5520997643470764)\n",
      "ShapiroResult(statistic=0.8089414834976196, pvalue=0.002037214348092675)\n",
      "ShapiroResult(statistic=0.9546374082565308, pvalue=0.5022943019866943)\n",
      "-------------------------------------------------\n",
      "Shapiro test for diffrent methods\n",
      "ShapiroResult(statistic=0.8656488656997681, pvalue=6.840347487013787e-05)\n",
      "ShapiroResult(statistic=0.9371029138565063, pvalue=0.07601772248744965)\n",
      "ShapiroResult(statistic=0.9091950058937073, pvalue=0.014201578684151173)\n",
      "-------------------------------------------------\n",
      "Shapriro for Different Alloys\n",
      "ShapiroResult(statistic=0.7530613541603088, pvalue=7.347937813761973e-09)\n",
      "ShapiroResult(statistic=0.8877691626548767, pvalue=0.00040292771882377565)\n",
      "--------------------------------------------------\n",
      "Shapriro for total Dentists and Methods \n",
      "ShapiroResult(statistic=0.853844404220581, pvalue=7.085783515492494e-09)\n",
      "ShapiroResult(statistic=0.7695497870445251, pvalue=1.1530194334030686e-11)\n",
      "------------------------------------------------------------------------\n",
      "Anderson Darling Test:\n",
      "AndersonResult(statistic=2.314397857526508, critical_values=array([0.527, 0.6  , 0.719, 0.839, 0.998]), significance_level=array([15. , 10. ,  5. ,  2.5,  1. ]))\n",
      "AndersonResult(statistic=0.18489207423293763, critical_values=array([0.503, 0.573, 0.687, 0.802, 0.954]), significance_level=array([15. , 10. ,  5. ,  2.5,  1. ]))\n",
      "AndersonResult(statistic=0.31139490001785575, critical_values=array([0.503, 0.573, 0.687, 0.802, 0.954]), significance_level=array([15. , 10. ,  5. ,  2.5,  1. ]))\n",
      "AndersonResult(statistic=1.2944798644002624, critical_values=array([0.503, 0.573, 0.687, 0.802, 0.954]), significance_level=array([15. , 10. ,  5. ,  2.5,  1. ]))\n",
      "AndersonResult(statistic=0.3980880088398422, critical_values=array([0.503, 0.573, 0.687, 0.802, 0.954]), significance_level=array([15. , 10. ,  5. ,  2.5,  1. ]))\n",
      "AndersonResult(statistic=2.5617144907527702, critical_values=array([0.536, 0.611, 0.733, 0.855, 1.017]), significance_level=array([15. , 10. ,  5. ,  2.5,  1. ]))\n",
      "AndersonResult(statistic=2.5617144907527702, critical_values=array([0.536, 0.611, 0.733, 0.855, 1.017]), significance_level=array([15. , 10. ,  5. ,  2.5,  1. ]))\n",
      "AndersonResult(statistic=2.5617144907527702, critical_values=array([0.536, 0.611, 0.733, 0.855, 1.017]), significance_level=array([15. , 10. ,  5. ,  2.5,  1. ]))\n",
      "AndersonResult(statistic=5.450311195559834, critical_values=array([0.544, 0.62 , 0.744, 0.868, 1.032]), significance_level=array([15. , 10. ,  5. ,  2.5,  1. ]))\n",
      "AndersonResult(statistic=1.8931311726356412, critical_values=array([0.535, 0.609, 0.731, 0.853, 1.014]), significance_level=array([15. , 10. ,  5. ,  2.5,  1. ]))\n"
     ]
    }
   ],
   "source": [
    "\n",
    "print('Shapiro-wilk test for Different dentists')\n",
    "print(stats.shapiro([Dentist_1]))\n",
    "print(stats.shapiro([Dentist_2]))\n",
    "print(stats.shapiro([Dentist_3]))\n",
    "print(stats.shapiro([Dentist_4]))\n",
    "print(stats.shapiro([Dentist_5]))\n",
    "print('-------------------------------------------------')\n",
    "print('Shapiro test for diffrent methods')\n",
    "print(stats.shapiro([Method_1]))\n",
    "print(stats.shapiro([Method_2]))\n",
    "print(stats.shapiro([Method_3]))\n",
    "print('-------------------------------------------------')\n",
    "print('Shapriro for Different Alloys')\n",
    "print(stats.shapiro([Alloy_1]))\n",
    "print(stats.shapiro([Alloy_2]))\n",
    "print('--------------------------------------------------')\n",
    "print('Shapriro for total Dentists and Methods ')\n",
    "print(stats.shapiro(df1['Dentist']))\n",
    "print(stats.shapiro(df1['Method']))\n",
    "\n",
    "#Anderson Darling Test if Shapiro fails\n",
    "print('------------------------------------------------------------------------')\n",
    "print('Anderson Darling Test:')\n",
    "print(stats.anderson(Dentist_1,dist='norm'))\n",
    "print(stats.anderson(Dentist_2,dist='norm'))\n",
    "print(stats.anderson(Dentist_3,dist='norm'))\n",
    "print(stats.anderson(Dentist_4,dist='norm'))\n",
    "print(stats.anderson(Dentist_5,dist='norm'))\n",
    "\n",
    "print(stats.anderson(Method_1,dist='norm'))\n",
    "print(stats.anderson(Method_1,dist='norm'))\n",
    "print(stats.anderson(Method_1,dist='norm'))\n",
    "\n",
    "print(stats.anderson(Alloy_1,dist='norm'))\n",
    "print(stats.anderson(Alloy_2,dist='norm'))"
   ]
  },
  {
   "cell_type": "markdown",
   "metadata": {},
   "source": [
    "The p-value of most of the samples are less than the alpha value($\\alpha$=0.05).\n",
    "\n",
    "so we reject Null hypothesis. The data is not normally distributed.\n",
    "\n",
    "One of the assumption is failed.\n"
   ]
  },
  {
   "cell_type": "markdown",
   "metadata": {},
   "source": [
    "**Homogeniety in variances**\n",
    "\n",
    "The **Levene test** tests the null hypothesis that all input samples are from populations with equal variances.\n",
    "\n",
    "alpha ($\\alpha$)= 0.05\n",
    "\n",
    "**The Null Hypothesis ($H_0$) : The Sample data has equal variances**\n",
    "\n",
    "**The Alternate Hypothesis ($H_a$) : The Sample data has no equality in variances**\n",
    "\n"
   ]
  },
  {
   "cell_type": "code",
   "execution_count": 117,
   "metadata": {},
   "outputs": [
    {
     "name": "stdout",
     "output_type": "stream",
     "text": [
      "LeveneResult(statistic=5.400921385362601, pvalue=0.0005511246180244884)\n",
      "LeveneResult(statistic=9.14602998309987, pvalue=0.00021929265852162948)\n",
      "LeveneResult(statistic=5.6857642892729485, pvalue=0.01889751680926786)\n"
     ]
    }
   ],
   "source": [
    "print(stats.levene(Dentist_1,Dentist_2,Dentist_3,Dentist_4,Dentist_5))\n",
    "print(stats.levene(Method_1,Method_2,Method_3))\n",
    "print(stats.levene(Alloy_1,Alloy_2))"
   ]
  },
  {
   "cell_type": "markdown",
   "metadata": {},
   "source": [
    "The p-value of two samples are less than the alpha value($\\alpha$=0.05).\n",
    "\n",
    "so we reject Null hypothesis. The data is doesn't have euqal variances.\n",
    "\n",
    "Another assumption is failed.\n",
    "\n",
    "The main assumptions are failed"
   ]
  },
  {
   "cell_type": "code",
   "execution_count": null,
   "metadata": {},
   "outputs": [],
   "source": []
  },
  {
   "cell_type": "markdown",
   "metadata": {},
   "source": [
    "### 7.3 Irrespective of your conclusion in 2, we will continue with the testing procedure. What do you conclude regarding whether implant hardness depends on dentists? Clearly state your conclusion. If the null hypothesis is rejected, is it possible to identify which pairs of dentists differ?"
   ]
  },
  {
   "cell_type": "markdown",
   "metadata": {},
   "source": [
    "**The corresponding p-value for Dentist with respect to response is more than alpha ($\\alpha$  = 0.05).Thus we fail to reject NULL\n",
    "HYPOTHESIS ($𝐻_0$ )**\n",
    "\n",
    "p-value (0.112) > alpha ($\\alpha$=0.05)\n",
    "\n",
    "No, the null hypothesis is not rejected.\n",
    "\n",
    "That is we could say that there is no difference in the  hardness of the implants made amoung different dentists.\n",
    "\n",
    "The means are same for all the diffrent dentists.\n",
    "\n",
    "There is no effect on the implant hardness by the dentists.\n",
    "\n",
    "\n",
    "**When the considering the two types of Alloys seperately We can conclude that we reject Null Hypothesis as p-value is less than alpha ($\\alpha$=0.05)**\n",
    "\n",
    "That is there is some impact in the hardness of the implant amoung the dentist and alloys they use."
   ]
  },
  {
   "cell_type": "markdown",
   "metadata": {},
   "source": [
    "### 7.4 Now test whether there is any difference among the methods on the hardness of dental implant, separately for the two types of alloys. What are your conclusions? If the null hypothesis is rejected, is it possible to identify which pairs of methods differ?"
   ]
  },
  {
   "cell_type": "markdown",
   "metadata": {},
   "source": [
    "**Null hypothesis for alloy A ( 𝐻0 A)= There is no difference among the methods in the means of implant hardness for alloy A**\n",
    "\n",
    "**Alternate hypothesis for alloy A ( 𝐻𝑎 A) = Atleast one of the means among the methods is different for alloy A**\n",
    "\n"
   ]
  },
  {
   "cell_type": "code",
   "execution_count": 118,
   "metadata": {},
   "outputs": [
    {
     "data": {
      "text/html": [
       "<div>\n",
       "<style scoped>\n",
       "    .dataframe tbody tr th:only-of-type {\n",
       "        vertical-align: middle;\n",
       "    }\n",
       "\n",
       "    .dataframe tbody tr th {\n",
       "        vertical-align: top;\n",
       "    }\n",
       "\n",
       "    .dataframe thead th {\n",
       "        text-align: right;\n",
       "    }\n",
       "</style>\n",
       "<table border=\"1\" class=\"dataframe\">\n",
       "  <thead>\n",
       "    <tr style=\"text-align: right;\">\n",
       "      <th></th>\n",
       "      <th>Dentist</th>\n",
       "      <th>Method</th>\n",
       "      <th>Temp</th>\n",
       "      <th>Response</th>\n",
       "    </tr>\n",
       "    <tr>\n",
       "      <th>Alloy</th>\n",
       "      <th></th>\n",
       "      <th></th>\n",
       "      <th></th>\n",
       "      <th></th>\n",
       "    </tr>\n",
       "  </thead>\n",
       "  <tbody>\n",
       "    <tr>\n",
       "      <th>1.0</th>\n",
       "      <td>62</td>\n",
       "      <td>62</td>\n",
       "      <td>62</td>\n",
       "      <td>62</td>\n",
       "    </tr>\n",
       "    <tr>\n",
       "      <th>2.0</th>\n",
       "      <td>45</td>\n",
       "      <td>45</td>\n",
       "      <td>45</td>\n",
       "      <td>45</td>\n",
       "    </tr>\n",
       "  </tbody>\n",
       "</table>\n",
       "</div>"
      ],
      "text/plain": [
       "       Dentist  Method  Temp  Response\n",
       "Alloy                                 \n",
       "1.0         62      62    62        62\n",
       "2.0         45      45    45        45"
      ]
     },
     "execution_count": 118,
     "metadata": {},
     "output_type": "execute_result"
    }
   ],
   "source": [
    "df1.groupby('Alloy').count()"
   ]
  },
  {
   "cell_type": "code",
   "execution_count": 119,
   "metadata": {},
   "outputs": [
    {
     "data": {
      "text/html": [
       "<div>\n",
       "<style scoped>\n",
       "    .dataframe tbody tr th:only-of-type {\n",
       "        vertical-align: middle;\n",
       "    }\n",
       "\n",
       "    .dataframe tbody tr th {\n",
       "        vertical-align: top;\n",
       "    }\n",
       "\n",
       "    .dataframe thead th {\n",
       "        text-align: right;\n",
       "    }\n",
       "</style>\n",
       "<table border=\"1\" class=\"dataframe\">\n",
       "  <thead>\n",
       "    <tr style=\"text-align: right;\">\n",
       "      <th></th>\n",
       "      <th>df</th>\n",
       "      <th>sum_sq</th>\n",
       "      <th>mean_sq</th>\n",
       "      <th>F</th>\n",
       "      <th>PR(&gt;F)</th>\n",
       "    </tr>\n",
       "  </thead>\n",
       "  <tbody>\n",
       "    <tr>\n",
       "      <th>C(Method)</th>\n",
       "      <td>2.0</td>\n",
       "      <td>162281.666853</td>\n",
       "      <td>81140.833427</td>\n",
       "      <td>9.60338</td>\n",
       "      <td>0.000245</td>\n",
       "    </tr>\n",
       "    <tr>\n",
       "      <th>Residual</th>\n",
       "      <td>59.0</td>\n",
       "      <td>498502.542824</td>\n",
       "      <td>8449.195641</td>\n",
       "      <td>NaN</td>\n",
       "      <td>NaN</td>\n",
       "    </tr>\n",
       "  </tbody>\n",
       "</table>\n",
       "</div>"
      ],
      "text/plain": [
       "             df         sum_sq       mean_sq        F    PR(>F)\n",
       "C(Method)   2.0  162281.666853  81140.833427  9.60338  0.000245\n",
       "Residual   59.0  498502.542824   8449.195641      NaN       NaN"
      ]
     },
     "execution_count": 119,
     "metadata": {},
     "output_type": "execute_result"
    }
   ],
   "source": [
    "formula = 'Response ~ C(Method)'\n",
    "model = ols(formula, Alloy_A).fit()\n",
    "aov_table = anova_lm(model)\n",
    "(aov_table)"
   ]
  },
  {
   "cell_type": "markdown",
   "metadata": {},
   "source": [
    "**The corresponding p-values for both Method for Alloy A with respect to response are less than alpha ($\\alpha$  = 0.05).Thus we reject NULL HYPOTHESIS ($𝐻_0$ )**\n",
    "\n",
    "That is there is difference in the implant hardness when different alloys are used.\n",
    "\n",
    "When Alloy A is used there is difference in the hardness of the implant."
   ]
  },
  {
   "cell_type": "markdown",
   "metadata": {},
   "source": [
    "**Null hypothesis for alloy B ( 𝐻0 B)= There is no difference among the methods in the means of implant hardness for alloy B**\n",
    "\n",
    "**Alternate hypothesis for alloy B ( 𝐻𝑎 B) = Atleast one of the means among the methods is different for alloy B**"
   ]
  },
  {
   "cell_type": "code",
   "execution_count": 120,
   "metadata": {},
   "outputs": [
    {
     "data": {
      "text/html": [
       "<div>\n",
       "<style scoped>\n",
       "    .dataframe tbody tr th:only-of-type {\n",
       "        vertical-align: middle;\n",
       "    }\n",
       "\n",
       "    .dataframe tbody tr th {\n",
       "        vertical-align: top;\n",
       "    }\n",
       "\n",
       "    .dataframe thead th {\n",
       "        text-align: right;\n",
       "    }\n",
       "</style>\n",
       "<table border=\"1\" class=\"dataframe\">\n",
       "  <thead>\n",
       "    <tr style=\"text-align: right;\">\n",
       "      <th></th>\n",
       "      <th>df</th>\n",
       "      <th>sum_sq</th>\n",
       "      <th>mean_sq</th>\n",
       "      <th>F</th>\n",
       "      <th>PR(&gt;F)</th>\n",
       "    </tr>\n",
       "  </thead>\n",
       "  <tbody>\n",
       "    <tr>\n",
       "      <th>C(Method)</th>\n",
       "      <td>2.0</td>\n",
       "      <td>499640.4</td>\n",
       "      <td>249820.200000</td>\n",
       "      <td>16.4108</td>\n",
       "      <td>0.000005</td>\n",
       "    </tr>\n",
       "    <tr>\n",
       "      <th>Residual</th>\n",
       "      <td>42.0</td>\n",
       "      <td>639362.4</td>\n",
       "      <td>15222.914286</td>\n",
       "      <td>NaN</td>\n",
       "      <td>NaN</td>\n",
       "    </tr>\n",
       "  </tbody>\n",
       "</table>\n",
       "</div>"
      ],
      "text/plain": [
       "             df    sum_sq        mean_sq        F    PR(>F)\n",
       "C(Method)   2.0  499640.4  249820.200000  16.4108  0.000005\n",
       "Residual   42.0  639362.4   15222.914286      NaN       NaN"
      ]
     },
     "execution_count": 120,
     "metadata": {},
     "output_type": "execute_result"
    }
   ],
   "source": [
    "formula = 'Response ~ C(Method)'\n",
    "model = ols(formula, Alloy_B).fit()\n",
    "aov_table = anova_lm(model)\n",
    "(aov_table)"
   ]
  },
  {
   "cell_type": "markdown",
   "metadata": {},
   "source": [
    "**The corresponding p-values for both Method for Alloy B with respect to response are less than alpha ($\\alpha$  = 0.05).Thus we reject NULL HYPOTHESIS ($𝐻_0$ )**\n",
    "\n",
    "That is there is difference in the implant hardness when different alloys are used.\n",
    "\n",
    "When Alloy B is used there is difference in the hardness of the implant."
   ]
  },
  {
   "cell_type": "markdown",
   "metadata": {},
   "source": [
    "### 7.5 Now test whether there is any difference among the temperature levels on the hardness of dental implant, separately for the two types of alloys. What are your conclusions? If the null hypothesis is rejected, is it possible to identify which levels of temperatures differ?"
   ]
  },
  {
   "cell_type": "markdown",
   "metadata": {},
   "source": [
    "**Null hypothesis for alloy A ( 𝐻0 A)= There is no difference among the temperatures levels in the means of implant hardness for alloy A**\n",
    "\n",
    "**Alternate hypothesis for alloy A ( 𝐻𝑎 A) = Atleast one of the means among the temperature levels is different for alloy A**\n"
   ]
  },
  {
   "cell_type": "code",
   "execution_count": 121,
   "metadata": {},
   "outputs": [
    {
     "data": {
      "text/html": [
       "<div>\n",
       "<style scoped>\n",
       "    .dataframe tbody tr th:only-of-type {\n",
       "        vertical-align: middle;\n",
       "    }\n",
       "\n",
       "    .dataframe tbody tr th {\n",
       "        vertical-align: top;\n",
       "    }\n",
       "\n",
       "    .dataframe thead th {\n",
       "        text-align: right;\n",
       "    }\n",
       "</style>\n",
       "<table border=\"1\" class=\"dataframe\">\n",
       "  <thead>\n",
       "    <tr style=\"text-align: right;\">\n",
       "      <th></th>\n",
       "      <th>df</th>\n",
       "      <th>sum_sq</th>\n",
       "      <th>mean_sq</th>\n",
       "      <th>F</th>\n",
       "      <th>PR(&gt;F)</th>\n",
       "    </tr>\n",
       "  </thead>\n",
       "  <tbody>\n",
       "    <tr>\n",
       "      <th>C(Temp)</th>\n",
       "      <td>2.0</td>\n",
       "      <td>16238.661298</td>\n",
       "      <td>8119.330649</td>\n",
       "      <td>0.743222</td>\n",
       "      <td>0.479978</td>\n",
       "    </tr>\n",
       "    <tr>\n",
       "      <th>Residual</th>\n",
       "      <td>59.0</td>\n",
       "      <td>644545.548380</td>\n",
       "      <td>10924.500820</td>\n",
       "      <td>NaN</td>\n",
       "      <td>NaN</td>\n",
       "    </tr>\n",
       "  </tbody>\n",
       "</table>\n",
       "</div>"
      ],
      "text/plain": [
       "            df         sum_sq       mean_sq         F    PR(>F)\n",
       "C(Temp)    2.0   16238.661298   8119.330649  0.743222  0.479978\n",
       "Residual  59.0  644545.548380  10924.500820       NaN       NaN"
      ]
     },
     "execution_count": 121,
     "metadata": {},
     "output_type": "execute_result"
    }
   ],
   "source": [
    "formula = 'Response ~ C(Temp)'\n",
    "model = ols(formula, Alloy_A).fit()\n",
    "aov_table = anova_lm(model)\n",
    "(aov_table)"
   ]
  },
  {
   "cell_type": "markdown",
   "metadata": {},
   "source": [
    "**The corresponding p-values for Temperature for Alloy A with respect to response is greater than alpha ($\\alpha$ = 0.05).Thus we fail to reject NULL HYPOTHESIS ($𝐻_0$ )**\n",
    "\n",
    "That is there is no difference in the temperature for the implant hardness when different alloys are used.\n",
    "\n",
    "When Alloy A is used there is no impact on the implant hardness due to temperature"
   ]
  },
  {
   "cell_type": "markdown",
   "metadata": {},
   "source": [
    "**Null hypothesis for alloy B ( 𝐻0 B)= There is no difference among the temperature levels in the means of implant hardness for alloy B**\n",
    "\n",
    "**Alternate hypothesis for alloy B ( 𝐻𝑎 B) = Atleast one of the means among the temperature levels is different for alloy B**"
   ]
  },
  {
   "cell_type": "code",
   "execution_count": 122,
   "metadata": {},
   "outputs": [
    {
     "data": {
      "text/html": [
       "<div>\n",
       "<style scoped>\n",
       "    .dataframe tbody tr th:only-of-type {\n",
       "        vertical-align: middle;\n",
       "    }\n",
       "\n",
       "    .dataframe tbody tr th {\n",
       "        vertical-align: top;\n",
       "    }\n",
       "\n",
       "    .dataframe thead th {\n",
       "        text-align: right;\n",
       "    }\n",
       "</style>\n",
       "<table border=\"1\" class=\"dataframe\">\n",
       "  <thead>\n",
       "    <tr style=\"text-align: right;\">\n",
       "      <th></th>\n",
       "      <th>df</th>\n",
       "      <th>sum_sq</th>\n",
       "      <th>mean_sq</th>\n",
       "      <th>F</th>\n",
       "      <th>PR(&gt;F)</th>\n",
       "    </tr>\n",
       "  </thead>\n",
       "  <tbody>\n",
       "    <tr>\n",
       "      <th>C(Temp)</th>\n",
       "      <td>2.0</td>\n",
       "      <td>9.374893e+04</td>\n",
       "      <td>46874.466667</td>\n",
       "      <td>1.883492</td>\n",
       "      <td>0.164678</td>\n",
       "    </tr>\n",
       "    <tr>\n",
       "      <th>Residual</th>\n",
       "      <td>42.0</td>\n",
       "      <td>1.045254e+06</td>\n",
       "      <td>24886.996825</td>\n",
       "      <td>NaN</td>\n",
       "      <td>NaN</td>\n",
       "    </tr>\n",
       "  </tbody>\n",
       "</table>\n",
       "</div>"
      ],
      "text/plain": [
       "            df        sum_sq       mean_sq         F    PR(>F)\n",
       "C(Temp)    2.0  9.374893e+04  46874.466667  1.883492  0.164678\n",
       "Residual  42.0  1.045254e+06  24886.996825       NaN       NaN"
      ]
     },
     "execution_count": 122,
     "metadata": {},
     "output_type": "execute_result"
    }
   ],
   "source": [
    "formula = 'Response ~ C(Temp)'\n",
    "model = ols(formula, Alloy_B).fit()\n",
    "aov_table = anova_lm(model)\n",
    "(aov_table)"
   ]
  },
  {
   "cell_type": "markdown",
   "metadata": {},
   "source": [
    "**The corresponding p-values for Temperature for Alloy B with respect to response is greater than alpha ($\\alpha$ = 0.05).Thus we fail to reject NULL HYPOTHESIS ($𝐻_0$ )**\n",
    "\n",
    "That is there is no difference in the temperature for the implant hardness when different alloys are used.\n",
    "\n",
    "When Alloy B is used there is no impact on the implant hardness due to temperature"
   ]
  },
  {
   "cell_type": "markdown",
   "metadata": {},
   "source": [
    "### 7.6 Consider the interaction effect of dentist and method and comment on the interaction plot, separately for the two types of alloys?"
   ]
  },
  {
   "cell_type": "code",
   "execution_count": 124,
   "metadata": {},
   "outputs": [
    {
     "data": {
      "text/plain": [
       "Text(0.5, 1.0, 'Interaction between Method, Response, Alloy')"
      ]
     },
     "execution_count": 124,
     "metadata": {},
     "output_type": "execute_result"
    },
    {
     "data": {
      "image/png": "[encoded data removed]",
      "text/plain": [
       "<Figure size 432x288 with 1 Axes>"
      ]
     },
     "metadata": {
      "needs_background": "light"
     },
     "output_type": "display_data"
    }
   ],
   "source": [
    "sns.pointplot(x='Method',y='Response',data=df1,hue='Alloy')\n",
    "plt.title('Interaction between Method, Response, Alloy')"
   ]
  },
  {
   "cell_type": "code",
   "execution_count": 126,
   "metadata": {},
   "outputs": [
    {
     "data": {
      "text/plain": [
       "Text(0.5, 1.0, 'Interaction between Dentist, Response, Alloy')"
      ]
     },
     "execution_count": 126,
     "metadata": {},
     "output_type": "execute_result"
    },
    {
     "data": {
      "image/png": "[encoded data removed]",
      "text/plain": [
       "<Figure size 432x288 with 1 Axes>"
      ]
     },
     "metadata": {
      "needs_background": "light"
     },
     "output_type": "display_data"
    }
   ],
   "source": [
    "sns.pointplot(x='Dentist',y='Response',data=df1,hue='Alloy')\n",
    "plt.title('Interaction between Dentist, Response, Alloy')"
   ]
  },
  {
   "cell_type": "markdown",
   "metadata": {},
   "source": [
    "### 7.7 Now consider the effect of both factors, dentist, and method, separately on each alloy. What do you conclude? Is it possible to identify which dentists are different, which methods are different, and which interaction levels are different?"
   ]
  },
  {
   "cell_type": "markdown",
   "metadata": {},
   "source": [
    "**Null hypothesis for alloy A ( 𝐻0 A)= There is no difference among the dentist and methods in the means of implant hardness for alloy A**\n",
    "\n",
    "**Alternate hypothesis for alloy A ( 𝐻𝑎 A) = Atleast one of the means among the dentist and methods is different for alloy A**\n"
   ]
  },
  {
   "cell_type": "code",
   "execution_count": 134,
   "metadata": {},
   "outputs": [
    {
     "data": {
      "text/html": [
       "<div>\n",
       "<style scoped>\n",
       "    .dataframe tbody tr th:only-of-type {\n",
       "        vertical-align: middle;\n",
       "    }\n",
       "\n",
       "    .dataframe tbody tr th {\n",
       "        vertical-align: top;\n",
       "    }\n",
       "\n",
       "    .dataframe thead th {\n",
       "        text-align: right;\n",
       "    }\n",
       "</style>\n",
       "<table border=\"1\" class=\"dataframe\">\n",
       "  <thead>\n",
       "    <tr style=\"text-align: right;\">\n",
       "      <th></th>\n",
       "      <th>df</th>\n",
       "      <th>sum_sq</th>\n",
       "      <th>mean_sq</th>\n",
       "      <th>F</th>\n",
       "      <th>PR(&gt;F)</th>\n",
       "    </tr>\n",
       "  </thead>\n",
       "  <tbody>\n",
       "    <tr>\n",
       "      <th>C(Method)</th>\n",
       "      <td>2.0</td>\n",
       "      <td>162281.666853</td>\n",
       "      <td>81140.833427</td>\n",
       "      <td>11.056904</td>\n",
       "      <td>0.000092</td>\n",
       "    </tr>\n",
       "    <tr>\n",
       "      <th>C(Dentist)</th>\n",
       "      <td>4.0</td>\n",
       "      <td>94886.300954</td>\n",
       "      <td>23721.575239</td>\n",
       "      <td>3.232493</td>\n",
       "      <td>0.018753</td>\n",
       "    </tr>\n",
       "    <tr>\n",
       "      <th>Residual</th>\n",
       "      <td>55.0</td>\n",
       "      <td>403616.241870</td>\n",
       "      <td>7338.477125</td>\n",
       "      <td>NaN</td>\n",
       "      <td>NaN</td>\n",
       "    </tr>\n",
       "  </tbody>\n",
       "</table>\n",
       "</div>"
      ],
      "text/plain": [
       "              df         sum_sq       mean_sq          F    PR(>F)\n",
       "C(Method)    2.0  162281.666853  81140.833427  11.056904  0.000092\n",
       "C(Dentist)   4.0   94886.300954  23721.575239   3.232493  0.018753\n",
       "Residual    55.0  403616.241870   7338.477125        NaN       NaN"
      ]
     },
     "execution_count": 134,
     "metadata": {},
     "output_type": "execute_result"
    }
   ],
   "source": [
    "formula = 'Response ~ C(Method) + C(Dentist)'\n",
    "model = ols(formula, Alloy_A).fit()\n",
    "aov_table = anova_lm(model)\n",
    "(aov_table)"
   ]
  },
  {
   "cell_type": "markdown",
   "metadata": {},
   "source": [
    "**Considering the effect of Dentist and method for two alloys separately, we can conclude that the p-value is less than the alpha($\\alpha$ = 0.05).Thus we reject NULL HYPOTHESIS ($𝐻_0$ )**\n",
    "\n",
    "There is some impact in the hardness of the implant due to difference among the dentists and methods when Alloy A used."
   ]
  },
  {
   "cell_type": "markdown",
   "metadata": {},
   "source": [
    "**The p-value in the one of the treatments is greater than $\\alpha$(0.05)**\n",
    "\n",
    "The p-value of Dentist is greater than alpha and Method is less than alpha.\n",
    "\n",
    "**Let us check whether there is any interaction effect between the treatments.**"
   ]
  },
  {
   "cell_type": "code",
   "execution_count": 131,
   "metadata": {},
   "outputs": [
    {
     "data": {
      "text/plain": [
       "Text(0.5, 1.0, 'Interaction between Dentist, Response, Alloy_A')"
      ]
     },
     "execution_count": 131,
     "metadata": {},
     "output_type": "execute_result"
    },
    {
     "data": {
      "image/png": "[encoded data removed]",
      "text/plain": [
       "<Figure size 432x288 with 1 Axes>"
      ]
     },
     "metadata": {
      "needs_background": "light"
     },
     "output_type": "display_data"
    }
   ],
   "source": [
    "sns.pointplot(x='Dentist', y='Response', data=Alloy_A, hue='Method',ci=None);\n",
    "plt.title('Interaction between Dentist, Response, Alloy_A')"
   ]
  },
  {
   "cell_type": "code",
   "execution_count": 128,
   "metadata": {},
   "outputs": [
    {
     "data": {
      "text/html": [
       "<div>\n",
       "<style scoped>\n",
       "    .dataframe tbody tr th:only-of-type {\n",
       "        vertical-align: middle;\n",
       "    }\n",
       "\n",
       "    .dataframe tbody tr th {\n",
       "        vertical-align: top;\n",
       "    }\n",
       "\n",
       "    .dataframe thead th {\n",
       "        text-align: right;\n",
       "    }\n",
       "</style>\n",
       "<table border=\"1\" class=\"dataframe\">\n",
       "  <thead>\n",
       "    <tr style=\"text-align: right;\">\n",
       "      <th></th>\n",
       "      <th>df</th>\n",
       "      <th>sum_sq</th>\n",
       "      <th>mean_sq</th>\n",
       "      <th>F</th>\n",
       "      <th>PR(&gt;F)</th>\n",
       "    </tr>\n",
       "  </thead>\n",
       "  <tbody>\n",
       "    <tr>\n",
       "      <th>C(Method)</th>\n",
       "      <td>2.0</td>\n",
       "      <td>162281.666853</td>\n",
       "      <td>81140.833427</td>\n",
       "      <td>17.859902</td>\n",
       "      <td>0.000002</td>\n",
       "    </tr>\n",
       "    <tr>\n",
       "      <th>C(Dentist)</th>\n",
       "      <td>4.0</td>\n",
       "      <td>94886.300954</td>\n",
       "      <td>23721.575239</td>\n",
       "      <td>5.221354</td>\n",
       "      <td>0.001455</td>\n",
       "    </tr>\n",
       "    <tr>\n",
       "      <th>C(Method):C(Dentist)</th>\n",
       "      <td>8.0</td>\n",
       "      <td>190086.565944</td>\n",
       "      <td>23760.820743</td>\n",
       "      <td>5.229992</td>\n",
       "      <td>0.000105</td>\n",
       "    </tr>\n",
       "    <tr>\n",
       "      <th>Residual</th>\n",
       "      <td>47.0</td>\n",
       "      <td>213529.675926</td>\n",
       "      <td>4543.184594</td>\n",
       "      <td>NaN</td>\n",
       "      <td>NaN</td>\n",
       "    </tr>\n",
       "  </tbody>\n",
       "</table>\n",
       "</div>"
      ],
      "text/plain": [
       "                        df         sum_sq       mean_sq          F    PR(>F)\n",
       "C(Method)              2.0  162281.666853  81140.833427  17.859902  0.000002\n",
       "C(Dentist)             4.0   94886.300954  23721.575239   5.221354  0.001455\n",
       "C(Method):C(Dentist)   8.0  190086.565944  23760.820743   5.229992  0.000105\n",
       "Residual              47.0  213529.675926   4543.184594        NaN       NaN"
      ]
     },
     "execution_count": 128,
     "metadata": {},
     "output_type": "execute_result"
    }
   ],
   "source": [
    "formula = 'Response ~ C(Method) + C(Dentist) + C(Method) : C(Dentist)'\n",
    "model = ols(formula, Alloy_A).fit()\n",
    "aov_table = anova_lm(model)\n",
    "(aov_table)"
   ]
  },
  {
   "cell_type": "markdown",
   "metadata": {},
   "source": [
    "**Considering the effect of Dentist and method for two alloys separately, we can conclude that the p-value is less than the alpha($\\alpha$ = 0.05).Thus we reject NULL HYPOTHESIS ($𝐻_0$ )**\n",
    "\n",
    "There is some impact in the hardness of the implant due to difference among the dentists and methods when Alloy A used."
   ]
  },
  {
   "cell_type": "markdown",
   "metadata": {},
   "source": [
    "There is more interaction among dentist, methods with alloys A."
   ]
  },
  {
   "cell_type": "markdown",
   "metadata": {},
   "source": [
    "**Null hypothesis for alloy B ( 𝐻0 B)= There is no difference among the dentist and methods in the means of implant hardness for alloy B**\n",
    "\n",
    "**Alternate hypothesis for alloy B ( 𝐻𝑎 B) = Atleast one of the means among the dentist and methods is different for alloy B**"
   ]
  },
  {
   "cell_type": "code",
   "execution_count": 129,
   "metadata": {},
   "outputs": [
    {
     "data": {
      "text/html": [
       "<div>\n",
       "<style scoped>\n",
       "    .dataframe tbody tr th:only-of-type {\n",
       "        vertical-align: middle;\n",
       "    }\n",
       "\n",
       "    .dataframe tbody tr th {\n",
       "        vertical-align: top;\n",
       "    }\n",
       "\n",
       "    .dataframe thead th {\n",
       "        text-align: right;\n",
       "    }\n",
       "</style>\n",
       "<table border=\"1\" class=\"dataframe\">\n",
       "  <thead>\n",
       "    <tr style=\"text-align: right;\">\n",
       "      <th></th>\n",
       "      <th>df</th>\n",
       "      <th>sum_sq</th>\n",
       "      <th>mean_sq</th>\n",
       "      <th>F</th>\n",
       "      <th>PR(&gt;F)</th>\n",
       "    </tr>\n",
       "  </thead>\n",
       "  <tbody>\n",
       "    <tr>\n",
       "      <th>C(Method)</th>\n",
       "      <td>2.0</td>\n",
       "      <td>499640.400000</td>\n",
       "      <td>249820.200000</td>\n",
       "      <td>16.295479</td>\n",
       "      <td>0.000008</td>\n",
       "    </tr>\n",
       "    <tr>\n",
       "      <th>C(Dentist)</th>\n",
       "      <td>4.0</td>\n",
       "      <td>56797.911111</td>\n",
       "      <td>14199.477778</td>\n",
       "      <td>0.926215</td>\n",
       "      <td>0.458933</td>\n",
       "    </tr>\n",
       "    <tr>\n",
       "      <th>Residual</th>\n",
       "      <td>38.0</td>\n",
       "      <td>582564.488889</td>\n",
       "      <td>15330.644444</td>\n",
       "      <td>NaN</td>\n",
       "      <td>NaN</td>\n",
       "    </tr>\n",
       "  </tbody>\n",
       "</table>\n",
       "</div>"
      ],
      "text/plain": [
       "              df         sum_sq        mean_sq          F    PR(>F)\n",
       "C(Method)    2.0  499640.400000  249820.200000  16.295479  0.000008\n",
       "C(Dentist)   4.0   56797.911111   14199.477778   0.926215  0.458933\n",
       "Residual    38.0  582564.488889   15330.644444        NaN       NaN"
      ]
     },
     "execution_count": 129,
     "metadata": {},
     "output_type": "execute_result"
    }
   ],
   "source": [
    "formula = 'Response ~ C(Method) + C(Dentist)'\n",
    "model = ols(formula, Alloy_B).fit()\n",
    "aov_table = anova_lm(model)\n",
    "(aov_table)"
   ]
  },
  {
   "cell_type": "markdown",
   "metadata": {},
   "source": [
    "**The p-value in the one of the treatments is greater than $\\alpha$(0.05)**\n",
    "\n",
    "The p-value of Dentist is greater than alpha and Method is less than alpha."
   ]
  },
  {
   "cell_type": "markdown",
   "metadata": {},
   "source": [
    "**Let us check whether there is any interaction effect between the treatments.**"
   ]
  },
  {
   "cell_type": "code",
   "execution_count": 132,
   "metadata": {},
   "outputs": [
    {
     "data": {
      "text/plain": [
       "Text(0.5, 1.0, 'Interaction between Dentist, Response, Alloy_B')"
      ]
     },
     "execution_count": 132,
     "metadata": {},
     "output_type": "execute_result"
    },
    {
     "data": {
      "image/png": "[encoded data removed]",
      "text/plain": [
       "<Figure size 432x288 with 1 Axes>"
      ]
     },
     "metadata": {
      "needs_background": "light"
     },
     "output_type": "display_data"
    }
   ],
   "source": [
    "sns.pointplot(x='Dentist', y='Response', data=Alloy_B, hue='Method',ci=None);\n",
    "plt.title('Interaction between Dentist, Response, Alloy_B')"
   ]
  },
  {
   "cell_type": "markdown",
   "metadata": {},
   "source": [
    "The interaction between the methods 1,2 and dentist with alloy B can be seen."
   ]
  },
  {
   "cell_type": "code",
   "execution_count": 133,
   "metadata": {},
   "outputs": [
    {
     "data": {
      "text/html": [
       "<div>\n",
       "<style scoped>\n",
       "    .dataframe tbody tr th:only-of-type {\n",
       "        vertical-align: middle;\n",
       "    }\n",
       "\n",
       "    .dataframe tbody tr th {\n",
       "        vertical-align: top;\n",
       "    }\n",
       "\n",
       "    .dataframe thead th {\n",
       "        text-align: right;\n",
       "    }\n",
       "</style>\n",
       "<table border=\"1\" class=\"dataframe\">\n",
       "  <thead>\n",
       "    <tr style=\"text-align: right;\">\n",
       "      <th></th>\n",
       "      <th>df</th>\n",
       "      <th>sum_sq</th>\n",
       "      <th>mean_sq</th>\n",
       "      <th>F</th>\n",
       "      <th>PR(&gt;F)</th>\n",
       "    </tr>\n",
       "  </thead>\n",
       "  <tbody>\n",
       "    <tr>\n",
       "      <th>C(Method)</th>\n",
       "      <td>2.0</td>\n",
       "      <td>499640.400000</td>\n",
       "      <td>249820.200000</td>\n",
       "      <td>19.461218</td>\n",
       "      <td>0.000004</td>\n",
       "    </tr>\n",
       "    <tr>\n",
       "      <th>C(Dentist)</th>\n",
       "      <td>4.0</td>\n",
       "      <td>56797.911111</td>\n",
       "      <td>14199.477778</td>\n",
       "      <td>1.106152</td>\n",
       "      <td>0.371833</td>\n",
       "    </tr>\n",
       "    <tr>\n",
       "      <th>C(Method):C(Dentist)</th>\n",
       "      <td>8.0</td>\n",
       "      <td>197459.822222</td>\n",
       "      <td>24682.477778</td>\n",
       "      <td>1.922787</td>\n",
       "      <td>0.093234</td>\n",
       "    </tr>\n",
       "    <tr>\n",
       "      <th>Residual</th>\n",
       "      <td>30.0</td>\n",
       "      <td>385104.666667</td>\n",
       "      <td>12836.822222</td>\n",
       "      <td>NaN</td>\n",
       "      <td>NaN</td>\n",
       "    </tr>\n",
       "  </tbody>\n",
       "</table>\n",
       "</div>"
      ],
      "text/plain": [
       "                        df         sum_sq        mean_sq          F    PR(>F)\n",
       "C(Method)              2.0  499640.400000  249820.200000  19.461218  0.000004\n",
       "C(Dentist)             4.0   56797.911111   14199.477778   1.106152  0.371833\n",
       "C(Method):C(Dentist)   8.0  197459.822222   24682.477778   1.922787  0.093234\n",
       "Residual              30.0  385104.666667   12836.822222        NaN       NaN"
      ]
     },
     "execution_count": 133,
     "metadata": {},
     "output_type": "execute_result"
    }
   ],
   "source": [
    "formula = 'Response ~ C(Method) + C(Dentist) + C(Method) : C(Dentist)'\n",
    "model = ols(formula, Alloy_B).fit()\n",
    "aov_table = anova_lm(model)\n",
    "(aov_table)"
   ]
  },
  {
   "cell_type": "markdown",
   "metadata": {},
   "source": [
    "### Due to the inclusion of the interaction effect term, we can see a slight change in the p-value of the Dentist and Method as compared to the Two-Way ANOVA without the interaction effect terms.And we see that the p-value of the interaction effect term of 'Dentist' and 'Method' suggests that the Null Hypothesis is rejected in both the cases with Alloy_A and Alloy_B."
   ]
  },
  {
   "cell_type": "code",
   "execution_count": null,
   "metadata": {},
   "outputs": [],
   "source": []
  }
 ],
 "metadata": {
  "kernelspec": {
   "display_name": "Python 3",
   "language": "python",
   "name": "python3"
  },
  "language_info": {
   "codemirror_mode": {
    "name": "ipython",
    "version": 3
   },
   "file_extension": ".py",
   "mimetype": "text/x-python",
   "name": "python",
   "nbconvert_exporter": "python",
   "pygments_lexer": "ipython3",
   "version": "3.8.5"
  }
 },
 "nbformat": 4,
 "nbformat_minor": 4
}
